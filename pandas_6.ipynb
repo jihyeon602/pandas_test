{
  "cells": [
    {
      "cell_type": "markdown",
      "metadata": {
        "id": "view-in-github",
        "colab_type": "text"
      },
      "source": [
        "<a href=\"https://colab.research.google.com/github/jihyeon602/pandas_test/blob/main/pandas_6.ipynb\" target=\"_parent\"><img src=\"https://colab.research.google.com/assets/colab-badge.svg\" alt=\"Open In Colab\"/></a>"
      ]
    },
    {
      "cell_type": "markdown",
      "metadata": {
        "id": "E14GtdGEIEpA"
      },
      "source": [
        "(sec:multiindex)=\n",
        "# 다중 인덱스"
      ]
    },
    {
      "cell_type": "code",
      "execution_count": null,
      "metadata": {
        "id": "LFISFPQrIEpB"
      },
      "outputs": [],
      "source": [
        "import numpy as np\n",
        "import pandas as pd"
      ]
    },
    {
      "cell_type": "code",
      "execution_count": null,
      "metadata": {
        "id": "ShgpVJ_KIEpC"
      },
      "outputs": [],
      "source": [
        "pd.options.display.max_rows = 20\n",
        "pd.options.display.max_colwidth = 80\n",
        "pd.options.display.max_columns = 20"
      ]
    },
    {
      "cell_type": "code",
      "execution_count": null,
      "metadata": {
        "id": "kTuWrwQaIEpC"
      },
      "outputs": [],
      "source": [
        "np.random.seed(12345)"
      ]
    },
    {
      "cell_type": "code",
      "execution_count": null,
      "metadata": {
        "id": "Qtq2z2kiIEpC"
      },
      "outputs": [],
      "source": [
        "import matplotlib.pyplot as plt\n",
        "\n",
        "plt.rc(\"figure\", figsize=(10, 6))\n",
        "np.set_printoptions(precision=4, suppress=True)"
      ]
    },
    {
      "cell_type": "markdown",
      "metadata": {
        "id": "RZeo3WJFIEpD"
      },
      "source": [
        "## 시리즈 계층 인덱싱"
      ]
    },
    {
      "cell_type": "markdown",
      "metadata": {
        "id": "FZ0ku-q0IEpD"
      },
      "source": [
        "**다중 인덱스 사용 시리즈**"
      ]
    },
    {
      "cell_type": "code",
      "execution_count": null,
      "metadata": {
        "id": "MR80UKaSIEpD",
        "outputId": "aa38206a-78ba-42a8-c9ff-943f3b8b0e63"
      },
      "outputs": [
        {
          "data": {
            "text/plain": [
              "a  1    0.929616\n",
              "   2    0.316376\n",
              "   3    0.183919\n",
              "b  1    0.204560\n",
              "   3    0.567725\n",
              "c  1    0.595545\n",
              "   2    0.964515\n",
              "d  2    0.653177\n",
              "   3    0.748907\n",
              "dtype: float64"
            ]
          },
          "execution_count": 5,
          "metadata": {},
          "output_type": "execute_result"
        }
      ],
      "source": [
        "data = pd.Series(np.random.uniform(size=9),\n",
        "                 index=[[\"a\", \"a\", \"a\", \"b\", \"b\", \"c\", \"c\", \"d\", \"d\"],\n",
        "                        [1, 2, 3, 1, 3, 1, 2, 2, 3]])\n",
        "data"
      ]
    },
    {
      "cell_type": "code",
      "execution_count": null,
      "metadata": {
        "id": "aQDZ-B2pIEpE",
        "outputId": "21ece4c8-a964-4685-f5f2-ac56073ca463"
      },
      "outputs": [
        {
          "data": {
            "text/plain": [
              "MultiIndex([('a', 1),\n",
              "            ('a', 2),\n",
              "            ('a', 3),\n",
              "            ('b', 1),\n",
              "            ('b', 3),\n",
              "            ('c', 1),\n",
              "            ('c', 2),\n",
              "            ('d', 2),\n",
              "            ('d', 3)],\n",
              "           )"
            ]
          },
          "execution_count": 6,
          "metadata": {},
          "output_type": "execute_result"
        }
      ],
      "source": [
        "data.index"
      ]
    },
    {
      "cell_type": "markdown",
      "metadata": {
        "id": "Bkp126UXIEpE"
      },
      "source": [
        "**시리즈 인덱싱/슬라이싱**"
      ]
    },
    {
      "cell_type": "markdown",
      "metadata": {
        "id": "iX8bLqW6IEpE"
      },
      "source": [
        "- 0-레벨 인덱싱"
      ]
    },
    {
      "cell_type": "code",
      "execution_count": null,
      "metadata": {
        "id": "a9nYjr3hIEpE",
        "outputId": "4b49b3e0-dcd2-42ad-b1fc-ca170bd4eaad"
      },
      "outputs": [
        {
          "data": {
            "text/plain": [
              "1    0.204560\n",
              "3    0.567725\n",
              "dtype: float64"
            ]
          },
          "execution_count": 7,
          "metadata": {},
          "output_type": "execute_result"
        }
      ],
      "source": [
        "data[\"b\"]"
      ]
    },
    {
      "cell_type": "markdown",
      "metadata": {
        "id": "P8ccmyssIEpF"
      },
      "source": [
        "- 0-레벨 슬라싱"
      ]
    },
    {
      "cell_type": "code",
      "execution_count": null,
      "metadata": {
        "id": "kvbbpxehIEpF",
        "outputId": "63e697c8-16d4-4211-c4bb-2e7fed6a7764"
      },
      "outputs": [
        {
          "data": {
            "text/plain": [
              "b  1    0.204560\n",
              "   3    0.567725\n",
              "c  1    0.595545\n",
              "   2    0.964515\n",
              "dtype: float64"
            ]
          },
          "execution_count": 8,
          "metadata": {},
          "output_type": "execute_result"
        }
      ],
      "source": [
        "data[\"b\":\"c\"]"
      ]
    },
    {
      "cell_type": "markdown",
      "metadata": {
        "id": "Ssd0UlBlIEpF"
      },
      "source": [
        "- 0-레벨 팬시 인덱싱"
      ]
    },
    {
      "cell_type": "code",
      "execution_count": null,
      "metadata": {
        "id": "fBLYrNXPIEpF",
        "outputId": "62aeed15-d901-4ff0-8a18-25e3e01483a2"
      },
      "outputs": [
        {
          "data": {
            "text/plain": [
              "b  1    0.204560\n",
              "   3    0.567725\n",
              "d  2    0.653177\n",
              "   3    0.748907\n",
              "dtype: float64"
            ]
          },
          "execution_count": 9,
          "metadata": {},
          "output_type": "execute_result"
        }
      ],
      "source": [
        "data.loc[[\"b\", \"d\"]]"
      ]
    },
    {
      "cell_type": "markdown",
      "metadata": {
        "id": "pnxBCPHPIEpF"
      },
      "source": [
        "- 0-레벨과 1-레벨 동시 인덱싱/슬라이싱: `loc` 속성과 쉼표로 구분되는 레벨 별 인덱싱/슬라이싱 적용"
      ]
    },
    {
      "cell_type": "code",
      "execution_count": null,
      "metadata": {
        "id": "yQYdo9Q2IEpF",
        "outputId": "6bedf25b-0bac-4f7f-a29c-e4bd0745b712"
      },
      "outputs": [
        {
          "data": {
            "text/plain": [
              "a    0.316376\n",
              "c    0.964515\n",
              "d    0.653177\n",
              "dtype: float64"
            ]
          },
          "execution_count": 10,
          "metadata": {},
          "output_type": "execute_result"
        }
      ],
      "source": [
        "data.loc[:, 2]"
      ]
    },
    {
      "cell_type": "markdown",
      "metadata": {
        "id": "S3u0g0MxIEpF"
      },
      "source": [
        "**스택과 언스택**"
      ]
    },
    {
      "cell_type": "markdown",
      "metadata": {
        "id": "t0yRfE7VIEpF"
      },
      "source": [
        "언스택은 행 인덱스의 가장 깊은 라벨을 열 인덱스의 가장 깊은 라벨로 변환한다."
      ]
    },
    {
      "cell_type": "code",
      "execution_count": null,
      "metadata": {
        "id": "EnJ4tT1-IEpG",
        "outputId": "c1e81b27-42cf-4c8b-8bb1-90b7b28ff996"
      },
      "outputs": [
        {
          "data": {
            "text/html": [
              "<div>\n",
              "<style scoped>\n",
              "    .dataframe tbody tr th:only-of-type {\n",
              "        vertical-align: middle;\n",
              "    }\n",
              "\n",
              "    .dataframe tbody tr th {\n",
              "        vertical-align: top;\n",
              "    }\n",
              "\n",
              "    .dataframe thead th {\n",
              "        text-align: right;\n",
              "    }\n",
              "</style>\n",
              "<table border=\"1\" class=\"dataframe\">\n",
              "  <thead>\n",
              "    <tr style=\"text-align: right;\">\n",
              "      <th></th>\n",
              "      <th>1</th>\n",
              "      <th>2</th>\n",
              "      <th>3</th>\n",
              "    </tr>\n",
              "  </thead>\n",
              "  <tbody>\n",
              "    <tr>\n",
              "      <th>a</th>\n",
              "      <td>0.929616</td>\n",
              "      <td>0.316376</td>\n",
              "      <td>0.183919</td>\n",
              "    </tr>\n",
              "    <tr>\n",
              "      <th>b</th>\n",
              "      <td>0.204560</td>\n",
              "      <td>NaN</td>\n",
              "      <td>0.567725</td>\n",
              "    </tr>\n",
              "    <tr>\n",
              "      <th>c</th>\n",
              "      <td>0.595545</td>\n",
              "      <td>0.964515</td>\n",
              "      <td>NaN</td>\n",
              "    </tr>\n",
              "    <tr>\n",
              "      <th>d</th>\n",
              "      <td>NaN</td>\n",
              "      <td>0.653177</td>\n",
              "      <td>0.748907</td>\n",
              "    </tr>\n",
              "  </tbody>\n",
              "</table>\n",
              "</div>"
            ],
            "text/plain": [
              "          1         2         3\n",
              "a  0.929616  0.316376  0.183919\n",
              "b  0.204560       NaN  0.567725\n",
              "c  0.595545  0.964515       NaN\n",
              "d       NaN  0.653177  0.748907"
            ]
          },
          "execution_count": 11,
          "metadata": {},
          "output_type": "execute_result"
        }
      ],
      "source": [
        "data.unstack()"
      ]
    },
    {
      "cell_type": "markdown",
      "metadata": {
        "id": "UUK5sDdsIEpG"
      },
      "source": [
        "스택은 열 인덱스의 가장 깊은 라벨을 행 인덱스의 가장 깊은 라벨로 변환한다."
      ]
    },
    {
      "cell_type": "code",
      "execution_count": null,
      "metadata": {
        "id": "Ta46qR48IEpG",
        "outputId": "acb977ad-2000-44d1-86a1-c8e4c4c4fb05"
      },
      "outputs": [
        {
          "data": {
            "text/plain": [
              "a  1    0.929616\n",
              "   2    0.316376\n",
              "   3    0.183919\n",
              "b  1    0.204560\n",
              "   3    0.567725\n",
              "c  1    0.595545\n",
              "   2    0.964515\n",
              "d  2    0.653177\n",
              "   3    0.748907\n",
              "dtype: float64"
            ]
          },
          "execution_count": 12,
          "metadata": {},
          "output_type": "execute_result"
        }
      ],
      "source": [
        "data.unstack().stack()"
      ]
    },
    {
      "cell_type": "markdown",
      "metadata": {
        "id": "Z54CbbpfIEpG"
      },
      "source": [
        "## 데이터프레임 계층 인덱싱"
      ]
    },
    {
      "cell_type": "markdown",
      "metadata": {
        "id": "eJVKG2uwIEpG"
      },
      "source": [
        "**다중 행/열 인덱스 사용 데이터프레임**"
      ]
    },
    {
      "cell_type": "code",
      "execution_count": null,
      "metadata": {
        "id": "M1XBCFouIEpG",
        "outputId": "a4e25494-1dcb-4f9c-a7f3-0734edd3629a"
      },
      "outputs": [
        {
          "data": {
            "text/html": [
              "<div>\n",
              "<style scoped>\n",
              "    .dataframe tbody tr th:only-of-type {\n",
              "        vertical-align: middle;\n",
              "    }\n",
              "\n",
              "    .dataframe tbody tr th {\n",
              "        vertical-align: top;\n",
              "    }\n",
              "\n",
              "    .dataframe thead tr th {\n",
              "        text-align: left;\n",
              "    }\n",
              "</style>\n",
              "<table border=\"1\" class=\"dataframe\">\n",
              "  <thead>\n",
              "    <tr>\n",
              "      <th></th>\n",
              "      <th></th>\n",
              "      <th colspan=\"2\" halign=\"left\">Ohio</th>\n",
              "      <th>Colorado</th>\n",
              "    </tr>\n",
              "    <tr>\n",
              "      <th></th>\n",
              "      <th></th>\n",
              "      <th>Green</th>\n",
              "      <th>Red</th>\n",
              "      <th>Green</th>\n",
              "    </tr>\n",
              "  </thead>\n",
              "  <tbody>\n",
              "    <tr>\n",
              "      <th rowspan=\"2\" valign=\"top\">a</th>\n",
              "      <th>1</th>\n",
              "      <td>0</td>\n",
              "      <td>1</td>\n",
              "      <td>2</td>\n",
              "    </tr>\n",
              "    <tr>\n",
              "      <th>2</th>\n",
              "      <td>3</td>\n",
              "      <td>4</td>\n",
              "      <td>5</td>\n",
              "    </tr>\n",
              "    <tr>\n",
              "      <th rowspan=\"2\" valign=\"top\">b</th>\n",
              "      <th>1</th>\n",
              "      <td>6</td>\n",
              "      <td>7</td>\n",
              "      <td>8</td>\n",
              "    </tr>\n",
              "    <tr>\n",
              "      <th>2</th>\n",
              "      <td>9</td>\n",
              "      <td>10</td>\n",
              "      <td>11</td>\n",
              "    </tr>\n",
              "  </tbody>\n",
              "</table>\n",
              "</div>"
            ],
            "text/plain": [
              "     Ohio     Colorado\n",
              "    Green Red    Green\n",
              "a 1     0   1        2\n",
              "  2     3   4        5\n",
              "b 1     6   7        8\n",
              "  2     9  10       11"
            ]
          },
          "execution_count": 13,
          "metadata": {},
          "output_type": "execute_result"
        }
      ],
      "source": [
        "frame = pd.DataFrame(np.arange(12).reshape((4, 3)),\n",
        "                     index=[[\"a\", \"a\", \"b\", \"b\"], [1, 2, 1, 2]],\n",
        "                     columns=[[\"Ohio\", \"Ohio\", \"Colorado\"],\n",
        "                              [\"Green\", \"Red\", \"Green\"]])\n",
        "frame"
      ]
    },
    {
      "cell_type": "markdown",
      "metadata": {
        "id": "XKFPSsSCIEpG"
      },
      "source": [
        "행과 열 인덱스의 각 레벨에 이름 지정"
      ]
    },
    {
      "cell_type": "code",
      "execution_count": null,
      "metadata": {
        "id": "rN720uIQIEpG",
        "outputId": "e7a66fbf-d06f-4caa-c596-3cd4032d3e87"
      },
      "outputs": [
        {
          "data": {
            "text/html": [
              "<div>\n",
              "<style scoped>\n",
              "    .dataframe tbody tr th:only-of-type {\n",
              "        vertical-align: middle;\n",
              "    }\n",
              "\n",
              "    .dataframe tbody tr th {\n",
              "        vertical-align: top;\n",
              "    }\n",
              "\n",
              "    .dataframe thead tr th {\n",
              "        text-align: left;\n",
              "    }\n",
              "\n",
              "    .dataframe thead tr:last-of-type th {\n",
              "        text-align: right;\n",
              "    }\n",
              "</style>\n",
              "<table border=\"1\" class=\"dataframe\">\n",
              "  <thead>\n",
              "    <tr>\n",
              "      <th></th>\n",
              "      <th>state</th>\n",
              "      <th colspan=\"2\" halign=\"left\">Ohio</th>\n",
              "      <th>Colorado</th>\n",
              "    </tr>\n",
              "    <tr>\n",
              "      <th></th>\n",
              "      <th>color</th>\n",
              "      <th>Green</th>\n",
              "      <th>Red</th>\n",
              "      <th>Green</th>\n",
              "    </tr>\n",
              "    <tr>\n",
              "      <th>key1</th>\n",
              "      <th>key2</th>\n",
              "      <th></th>\n",
              "      <th></th>\n",
              "      <th></th>\n",
              "    </tr>\n",
              "  </thead>\n",
              "  <tbody>\n",
              "    <tr>\n",
              "      <th rowspan=\"2\" valign=\"top\">a</th>\n",
              "      <th>1</th>\n",
              "      <td>0</td>\n",
              "      <td>1</td>\n",
              "      <td>2</td>\n",
              "    </tr>\n",
              "    <tr>\n",
              "      <th>2</th>\n",
              "      <td>3</td>\n",
              "      <td>4</td>\n",
              "      <td>5</td>\n",
              "    </tr>\n",
              "    <tr>\n",
              "      <th rowspan=\"2\" valign=\"top\">b</th>\n",
              "      <th>1</th>\n",
              "      <td>6</td>\n",
              "      <td>7</td>\n",
              "      <td>8</td>\n",
              "    </tr>\n",
              "    <tr>\n",
              "      <th>2</th>\n",
              "      <td>9</td>\n",
              "      <td>10</td>\n",
              "      <td>11</td>\n",
              "    </tr>\n",
              "  </tbody>\n",
              "</table>\n",
              "</div>"
            ],
            "text/plain": [
              "state      Ohio     Colorado\n",
              "color     Green Red    Green\n",
              "key1 key2                   \n",
              "a    1        0   1        2\n",
              "     2        3   4        5\n",
              "b    1        6   7        8\n",
              "     2        9  10       11"
            ]
          },
          "execution_count": 14,
          "metadata": {},
          "output_type": "execute_result"
        }
      ],
      "source": [
        "frame.index.names = [\"key1\", \"key2\"]\n",
        "frame.columns.names = [\"state\", \"color\"]\n",
        "frame"
      ]
    },
    {
      "cell_type": "markdown",
      "metadata": {
        "id": "0E59aORhIEpG"
      },
      "source": [
        "행 인덱스는 2개의 레벨로 구성"
      ]
    },
    {
      "cell_type": "code",
      "execution_count": null,
      "metadata": {
        "id": "0fm8_oAeIEpH",
        "outputId": "e66e30dd-7ee0-469a-ecbf-d7160de68f46"
      },
      "outputs": [
        {
          "data": {
            "text/plain": [
              "2"
            ]
          },
          "execution_count": 15,
          "metadata": {},
          "output_type": "execute_result"
        }
      ],
      "source": [
        "frame.index.nlevels"
      ]
    },
    {
      "cell_type": "markdown",
      "metadata": {
        "id": "gGPLZIrzIEpH"
      },
      "source": [
        "기본 인덱싱은 열 인덱스의 0-레벨에 적용"
      ]
    },
    {
      "cell_type": "code",
      "execution_count": null,
      "metadata": {
        "id": "zQgKv38_IEpH",
        "outputId": "18d0857e-51bd-447e-ea5e-0944bd631ea1"
      },
      "outputs": [
        {
          "data": {
            "text/html": [
              "<div>\n",
              "<style scoped>\n",
              "    .dataframe tbody tr th:only-of-type {\n",
              "        vertical-align: middle;\n",
              "    }\n",
              "\n",
              "    .dataframe tbody tr th {\n",
              "        vertical-align: top;\n",
              "    }\n",
              "\n",
              "    .dataframe thead th {\n",
              "        text-align: right;\n",
              "    }\n",
              "</style>\n",
              "<table border=\"1\" class=\"dataframe\">\n",
              "  <thead>\n",
              "    <tr style=\"text-align: right;\">\n",
              "      <th></th>\n",
              "      <th>color</th>\n",
              "      <th>Green</th>\n",
              "      <th>Red</th>\n",
              "    </tr>\n",
              "    <tr>\n",
              "      <th>key1</th>\n",
              "      <th>key2</th>\n",
              "      <th></th>\n",
              "      <th></th>\n",
              "    </tr>\n",
              "  </thead>\n",
              "  <tbody>\n",
              "    <tr>\n",
              "      <th rowspan=\"2\" valign=\"top\">a</th>\n",
              "      <th>1</th>\n",
              "      <td>0</td>\n",
              "      <td>1</td>\n",
              "    </tr>\n",
              "    <tr>\n",
              "      <th>2</th>\n",
              "      <td>3</td>\n",
              "      <td>4</td>\n",
              "    </tr>\n",
              "    <tr>\n",
              "      <th rowspan=\"2\" valign=\"top\">b</th>\n",
              "      <th>1</th>\n",
              "      <td>6</td>\n",
              "      <td>7</td>\n",
              "    </tr>\n",
              "    <tr>\n",
              "      <th>2</th>\n",
              "      <td>9</td>\n",
              "      <td>10</td>\n",
              "    </tr>\n",
              "  </tbody>\n",
              "</table>\n",
              "</div>"
            ],
            "text/plain": [
              "color      Green  Red\n",
              "key1 key2            \n",
              "a    1         0    1\n",
              "     2         3    4\n",
              "b    1         6    7\n",
              "     2         9   10"
            ]
          },
          "execution_count": 16,
          "metadata": {},
          "output_type": "execute_result"
        }
      ],
      "source": [
        "frame[\"Ohio\"]"
      ]
    },
    {
      "cell_type": "markdown",
      "metadata": {
        "id": "n7BHUmbtIEpH"
      },
      "source": [
        "### 다중 인덱스 레벨 교환과 인덱스 라벨 정렬"
      ]
    },
    {
      "cell_type": "markdown",
      "metadata": {
        "id": "3VyPbdn9IEpH"
      },
      "source": [
        "**레벨 교환**"
      ]
    },
    {
      "cell_type": "markdown",
      "metadata": {
        "id": "xt1_rUSrIEpH"
      },
      "source": [
        "- 레벨 이름 활용"
      ]
    },
    {
      "cell_type": "code",
      "execution_count": null,
      "metadata": {
        "id": "aBNRAXcJIEpH",
        "outputId": "adf19d9d-72d2-4064-9f8b-7f359df6a011"
      },
      "outputs": [
        {
          "data": {
            "text/html": [
              "<div>\n",
              "<style scoped>\n",
              "    .dataframe tbody tr th:only-of-type {\n",
              "        vertical-align: middle;\n",
              "    }\n",
              "\n",
              "    .dataframe tbody tr th {\n",
              "        vertical-align: top;\n",
              "    }\n",
              "\n",
              "    .dataframe thead tr th {\n",
              "        text-align: left;\n",
              "    }\n",
              "\n",
              "    .dataframe thead tr:last-of-type th {\n",
              "        text-align: right;\n",
              "    }\n",
              "</style>\n",
              "<table border=\"1\" class=\"dataframe\">\n",
              "  <thead>\n",
              "    <tr>\n",
              "      <th></th>\n",
              "      <th>state</th>\n",
              "      <th colspan=\"2\" halign=\"left\">Ohio</th>\n",
              "      <th>Colorado</th>\n",
              "    </tr>\n",
              "    <tr>\n",
              "      <th></th>\n",
              "      <th>color</th>\n",
              "      <th>Green</th>\n",
              "      <th>Red</th>\n",
              "      <th>Green</th>\n",
              "    </tr>\n",
              "    <tr>\n",
              "      <th>key2</th>\n",
              "      <th>key1</th>\n",
              "      <th></th>\n",
              "      <th></th>\n",
              "      <th></th>\n",
              "    </tr>\n",
              "  </thead>\n",
              "  <tbody>\n",
              "    <tr>\n",
              "      <th>1</th>\n",
              "      <th>a</th>\n",
              "      <td>0</td>\n",
              "      <td>1</td>\n",
              "      <td>2</td>\n",
              "    </tr>\n",
              "    <tr>\n",
              "      <th>2</th>\n",
              "      <th>a</th>\n",
              "      <td>3</td>\n",
              "      <td>4</td>\n",
              "      <td>5</td>\n",
              "    </tr>\n",
              "    <tr>\n",
              "      <th>1</th>\n",
              "      <th>b</th>\n",
              "      <td>6</td>\n",
              "      <td>7</td>\n",
              "      <td>8</td>\n",
              "    </tr>\n",
              "    <tr>\n",
              "      <th>2</th>\n",
              "      <th>b</th>\n",
              "      <td>9</td>\n",
              "      <td>10</td>\n",
              "      <td>11</td>\n",
              "    </tr>\n",
              "  </tbody>\n",
              "</table>\n",
              "</div>"
            ],
            "text/plain": [
              "state      Ohio     Colorado\n",
              "color     Green Red    Green\n",
              "key2 key1                   \n",
              "1    a        0   1        2\n",
              "2    a        3   4        5\n",
              "1    b        6   7        8\n",
              "2    b        9  10       11"
            ]
          },
          "execution_count": 17,
          "metadata": {},
          "output_type": "execute_result"
        }
      ],
      "source": [
        "frame.swaplevel(\"key1\", \"key2\")"
      ]
    },
    {
      "cell_type": "markdown",
      "metadata": {
        "id": "Z1k3y_KrIEpH"
      },
      "source": [
        "- 정수 레벨 활용"
      ]
    },
    {
      "cell_type": "code",
      "execution_count": null,
      "metadata": {
        "id": "Xxkt7M0lIEpH",
        "outputId": "2be85e28-21ef-4b7e-9bd8-7331d4248a3c"
      },
      "outputs": [
        {
          "data": {
            "text/html": [
              "<div>\n",
              "<style scoped>\n",
              "    .dataframe tbody tr th:only-of-type {\n",
              "        vertical-align: middle;\n",
              "    }\n",
              "\n",
              "    .dataframe tbody tr th {\n",
              "        vertical-align: top;\n",
              "    }\n",
              "\n",
              "    .dataframe thead tr th {\n",
              "        text-align: left;\n",
              "    }\n",
              "\n",
              "    .dataframe thead tr:last-of-type th {\n",
              "        text-align: right;\n",
              "    }\n",
              "</style>\n",
              "<table border=\"1\" class=\"dataframe\">\n",
              "  <thead>\n",
              "    <tr>\n",
              "      <th></th>\n",
              "      <th>state</th>\n",
              "      <th colspan=\"2\" halign=\"left\">Ohio</th>\n",
              "      <th>Colorado</th>\n",
              "    </tr>\n",
              "    <tr>\n",
              "      <th></th>\n",
              "      <th>color</th>\n",
              "      <th>Green</th>\n",
              "      <th>Red</th>\n",
              "      <th>Green</th>\n",
              "    </tr>\n",
              "    <tr>\n",
              "      <th>key1</th>\n",
              "      <th>key2</th>\n",
              "      <th></th>\n",
              "      <th></th>\n",
              "      <th></th>\n",
              "    </tr>\n",
              "  </thead>\n",
              "  <tbody>\n",
              "    <tr>\n",
              "      <th rowspan=\"2\" valign=\"top\">a</th>\n",
              "      <th>1</th>\n",
              "      <td>0</td>\n",
              "      <td>1</td>\n",
              "      <td>2</td>\n",
              "    </tr>\n",
              "    <tr>\n",
              "      <th>2</th>\n",
              "      <td>3</td>\n",
              "      <td>4</td>\n",
              "      <td>5</td>\n",
              "    </tr>\n",
              "    <tr>\n",
              "      <th rowspan=\"2\" valign=\"top\">b</th>\n",
              "      <th>1</th>\n",
              "      <td>6</td>\n",
              "      <td>7</td>\n",
              "      <td>8</td>\n",
              "    </tr>\n",
              "    <tr>\n",
              "      <th>2</th>\n",
              "      <td>9</td>\n",
              "      <td>10</td>\n",
              "      <td>11</td>\n",
              "    </tr>\n",
              "  </tbody>\n",
              "</table>\n",
              "</div>"
            ],
            "text/plain": [
              "state      Ohio     Colorado\n",
              "color     Green Red    Green\n",
              "key1 key2                   \n",
              "a    1        0   1        2\n",
              "     2        3   4        5\n",
              "b    1        6   7        8\n",
              "     2        9  10       11"
            ]
          },
          "execution_count": 18,
          "metadata": {},
          "output_type": "execute_result"
        }
      ],
      "source": [
        "frame"
      ]
    },
    {
      "cell_type": "code",
      "execution_count": null,
      "metadata": {
        "id": "879UA00TIEpH",
        "outputId": "62fd3005-a03d-43f6-d7e6-e974dc4095f6"
      },
      "outputs": [
        {
          "data": {
            "text/html": [
              "<div>\n",
              "<style scoped>\n",
              "    .dataframe tbody tr th:only-of-type {\n",
              "        vertical-align: middle;\n",
              "    }\n",
              "\n",
              "    .dataframe tbody tr th {\n",
              "        vertical-align: top;\n",
              "    }\n",
              "\n",
              "    .dataframe thead tr th {\n",
              "        text-align: left;\n",
              "    }\n",
              "\n",
              "    .dataframe thead tr:last-of-type th {\n",
              "        text-align: right;\n",
              "    }\n",
              "</style>\n",
              "<table border=\"1\" class=\"dataframe\">\n",
              "  <thead>\n",
              "    <tr>\n",
              "      <th></th>\n",
              "      <th>state</th>\n",
              "      <th colspan=\"2\" halign=\"left\">Ohio</th>\n",
              "      <th>Colorado</th>\n",
              "    </tr>\n",
              "    <tr>\n",
              "      <th></th>\n",
              "      <th>color</th>\n",
              "      <th>Green</th>\n",
              "      <th>Red</th>\n",
              "      <th>Green</th>\n",
              "    </tr>\n",
              "    <tr>\n",
              "      <th>key2</th>\n",
              "      <th>key1</th>\n",
              "      <th></th>\n",
              "      <th></th>\n",
              "      <th></th>\n",
              "    </tr>\n",
              "  </thead>\n",
              "  <tbody>\n",
              "    <tr>\n",
              "      <th>1</th>\n",
              "      <th>a</th>\n",
              "      <td>0</td>\n",
              "      <td>1</td>\n",
              "      <td>2</td>\n",
              "    </tr>\n",
              "    <tr>\n",
              "      <th>2</th>\n",
              "      <th>a</th>\n",
              "      <td>3</td>\n",
              "      <td>4</td>\n",
              "      <td>5</td>\n",
              "    </tr>\n",
              "    <tr>\n",
              "      <th>1</th>\n",
              "      <th>b</th>\n",
              "      <td>6</td>\n",
              "      <td>7</td>\n",
              "      <td>8</td>\n",
              "    </tr>\n",
              "    <tr>\n",
              "      <th>2</th>\n",
              "      <th>b</th>\n",
              "      <td>9</td>\n",
              "      <td>10</td>\n",
              "      <td>11</td>\n",
              "    </tr>\n",
              "  </tbody>\n",
              "</table>\n",
              "</div>"
            ],
            "text/plain": [
              "state      Ohio     Colorado\n",
              "color     Green Red    Green\n",
              "key2 key1                   \n",
              "1    a        0   1        2\n",
              "2    a        3   4        5\n",
              "1    b        6   7        8\n",
              "2    b        9  10       11"
            ]
          },
          "execution_count": 19,
          "metadata": {},
          "output_type": "execute_result"
        }
      ],
      "source": [
        "frame.swaplevel(0, 1)"
      ]
    },
    {
      "cell_type": "markdown",
      "metadata": {
        "id": "ZSRbNmS7IEpL"
      },
      "source": [
        "**인덱스 라벨 정렬**"
      ]
    },
    {
      "cell_type": "markdown",
      "metadata": {
        "id": "ndw3efnQIEpL"
      },
      "source": [
        "먼저 1-레벨의 라벨을 정렬한다."
      ]
    },
    {
      "cell_type": "code",
      "execution_count": null,
      "metadata": {
        "id": "DwEH_FO4IEpL",
        "outputId": "e717da81-10be-4708-9493-3d4795aefc57"
      },
      "outputs": [
        {
          "data": {
            "text/html": [
              "<div>\n",
              "<style scoped>\n",
              "    .dataframe tbody tr th:only-of-type {\n",
              "        vertical-align: middle;\n",
              "    }\n",
              "\n",
              "    .dataframe tbody tr th {\n",
              "        vertical-align: top;\n",
              "    }\n",
              "\n",
              "    .dataframe thead tr th {\n",
              "        text-align: left;\n",
              "    }\n",
              "\n",
              "    .dataframe thead tr:last-of-type th {\n",
              "        text-align: right;\n",
              "    }\n",
              "</style>\n",
              "<table border=\"1\" class=\"dataframe\">\n",
              "  <thead>\n",
              "    <tr>\n",
              "      <th></th>\n",
              "      <th>state</th>\n",
              "      <th colspan=\"2\" halign=\"left\">Ohio</th>\n",
              "      <th>Colorado</th>\n",
              "    </tr>\n",
              "    <tr>\n",
              "      <th></th>\n",
              "      <th>color</th>\n",
              "      <th>Green</th>\n",
              "      <th>Red</th>\n",
              "      <th>Green</th>\n",
              "    </tr>\n",
              "    <tr>\n",
              "      <th>key1</th>\n",
              "      <th>key2</th>\n",
              "      <th></th>\n",
              "      <th></th>\n",
              "      <th></th>\n",
              "    </tr>\n",
              "  </thead>\n",
              "  <tbody>\n",
              "    <tr>\n",
              "      <th>a</th>\n",
              "      <th>1</th>\n",
              "      <td>0</td>\n",
              "      <td>1</td>\n",
              "      <td>2</td>\n",
              "    </tr>\n",
              "    <tr>\n",
              "      <th>b</th>\n",
              "      <th>1</th>\n",
              "      <td>6</td>\n",
              "      <td>7</td>\n",
              "      <td>8</td>\n",
              "    </tr>\n",
              "    <tr>\n",
              "      <th>a</th>\n",
              "      <th>2</th>\n",
              "      <td>3</td>\n",
              "      <td>4</td>\n",
              "      <td>5</td>\n",
              "    </tr>\n",
              "    <tr>\n",
              "      <th>b</th>\n",
              "      <th>2</th>\n",
              "      <td>9</td>\n",
              "      <td>10</td>\n",
              "      <td>11</td>\n",
              "    </tr>\n",
              "  </tbody>\n",
              "</table>\n",
              "</div>"
            ],
            "text/plain": [
              "state      Ohio     Colorado\n",
              "color     Green Red    Green\n",
              "key1 key2                   \n",
              "a    1        0   1        2\n",
              "b    1        6   7        8\n",
              "a    2        3   4        5\n",
              "b    2        9  10       11"
            ]
          },
          "execution_count": 20,
          "metadata": {},
          "output_type": "execute_result"
        }
      ],
      "source": [
        "frame.sort_index(level=1)"
      ]
    },
    {
      "cell_type": "markdown",
      "metadata": {
        "id": "obuWdFP2IEpM"
      },
      "source": [
        "레벨을 교환한다."
      ]
    },
    {
      "cell_type": "code",
      "execution_count": null,
      "metadata": {
        "id": "55YbT9AZIEpM",
        "outputId": "c44eeff9-cff8-4fd6-d273-6fa2d84ac94e"
      },
      "outputs": [
        {
          "data": {
            "text/html": [
              "<div>\n",
              "<style scoped>\n",
              "    .dataframe tbody tr th:only-of-type {\n",
              "        vertical-align: middle;\n",
              "    }\n",
              "\n",
              "    .dataframe tbody tr th {\n",
              "        vertical-align: top;\n",
              "    }\n",
              "\n",
              "    .dataframe thead tr th {\n",
              "        text-align: left;\n",
              "    }\n",
              "\n",
              "    .dataframe thead tr:last-of-type th {\n",
              "        text-align: right;\n",
              "    }\n",
              "</style>\n",
              "<table border=\"1\" class=\"dataframe\">\n",
              "  <thead>\n",
              "    <tr>\n",
              "      <th></th>\n",
              "      <th>state</th>\n",
              "      <th colspan=\"2\" halign=\"left\">Ohio</th>\n",
              "      <th>Colorado</th>\n",
              "    </tr>\n",
              "    <tr>\n",
              "      <th></th>\n",
              "      <th>color</th>\n",
              "      <th>Green</th>\n",
              "      <th>Red</th>\n",
              "      <th>Green</th>\n",
              "    </tr>\n",
              "    <tr>\n",
              "      <th>key2</th>\n",
              "      <th>key1</th>\n",
              "      <th></th>\n",
              "      <th></th>\n",
              "      <th></th>\n",
              "    </tr>\n",
              "  </thead>\n",
              "  <tbody>\n",
              "    <tr>\n",
              "      <th rowspan=\"2\" valign=\"top\">1</th>\n",
              "      <th>a</th>\n",
              "      <td>0</td>\n",
              "      <td>1</td>\n",
              "      <td>2</td>\n",
              "    </tr>\n",
              "    <tr>\n",
              "      <th>b</th>\n",
              "      <td>6</td>\n",
              "      <td>7</td>\n",
              "      <td>8</td>\n",
              "    </tr>\n",
              "    <tr>\n",
              "      <th rowspan=\"2\" valign=\"top\">2</th>\n",
              "      <th>a</th>\n",
              "      <td>3</td>\n",
              "      <td>4</td>\n",
              "      <td>5</td>\n",
              "    </tr>\n",
              "    <tr>\n",
              "      <th>b</th>\n",
              "      <td>9</td>\n",
              "      <td>10</td>\n",
              "      <td>11</td>\n",
              "    </tr>\n",
              "  </tbody>\n",
              "</table>\n",
              "</div>"
            ],
            "text/plain": [
              "state      Ohio     Colorado\n",
              "color     Green Red    Green\n",
              "key2 key1                   \n",
              "1    a        0   1        2\n",
              "     b        6   7        8\n",
              "2    a        3   4        5\n",
              "     b        9  10       11"
            ]
          },
          "execution_count": 21,
          "metadata": {},
          "output_type": "execute_result"
        }
      ],
      "source": [
        "frame.swaplevel(0, 1).sort_index(level=0)"
      ]
    },
    {
      "cell_type": "markdown",
      "metadata": {
        "id": "trXbDFpdIEpM"
      },
      "source": [
        "### 레벨 단위 그룹화"
      ]
    },
    {
      "cell_type": "code",
      "execution_count": null,
      "metadata": {
        "id": "UvoP7kmfIEpM",
        "outputId": "96163ea0-8953-4d3f-de8d-4b61aa627384"
      },
      "outputs": [
        {
          "data": {
            "text/html": [
              "<div>\n",
              "<style scoped>\n",
              "    .dataframe tbody tr th:only-of-type {\n",
              "        vertical-align: middle;\n",
              "    }\n",
              "\n",
              "    .dataframe tbody tr th {\n",
              "        vertical-align: top;\n",
              "    }\n",
              "\n",
              "    .dataframe thead tr th {\n",
              "        text-align: left;\n",
              "    }\n",
              "\n",
              "    .dataframe thead tr:last-of-type th {\n",
              "        text-align: right;\n",
              "    }\n",
              "</style>\n",
              "<table border=\"1\" class=\"dataframe\">\n",
              "  <thead>\n",
              "    <tr>\n",
              "      <th>state</th>\n",
              "      <th colspan=\"2\" halign=\"left\">Ohio</th>\n",
              "      <th>Colorado</th>\n",
              "    </tr>\n",
              "    <tr>\n",
              "      <th>color</th>\n",
              "      <th>Green</th>\n",
              "      <th>Red</th>\n",
              "      <th>Green</th>\n",
              "    </tr>\n",
              "    <tr>\n",
              "      <th>key2</th>\n",
              "      <th></th>\n",
              "      <th></th>\n",
              "      <th></th>\n",
              "    </tr>\n",
              "  </thead>\n",
              "  <tbody>\n",
              "    <tr>\n",
              "      <th>1</th>\n",
              "      <td>6</td>\n",
              "      <td>8</td>\n",
              "      <td>10</td>\n",
              "    </tr>\n",
              "    <tr>\n",
              "      <th>2</th>\n",
              "      <td>12</td>\n",
              "      <td>14</td>\n",
              "      <td>16</td>\n",
              "    </tr>\n",
              "  </tbody>\n",
              "</table>\n",
              "</div>"
            ],
            "text/plain": [
              "state  Ohio     Colorado\n",
              "color Green Red    Green\n",
              "key2                    \n",
              "1         6   8       10\n",
              "2        12  14       16"
            ]
          },
          "execution_count": 22,
          "metadata": {},
          "output_type": "execute_result"
        }
      ],
      "source": [
        "frame.groupby(level=\"key2\").sum()"
      ]
    },
    {
      "cell_type": "markdown",
      "metadata": {
        "id": "EFsFUpz6IEpM"
      },
      "source": [
        "레벨과 축을 활용한 그룹화\n",
        "- `level=\"color\"`: 열 인덱스의 1-레벨 기준\n",
        "- `axis=\"columns\"`: 열에 사용된 라벨 단위로 그룹화"
      ]
    },
    {
      "cell_type": "code",
      "execution_count": null,
      "metadata": {
        "id": "Vcr0De4QIEpM",
        "outputId": "6dcb8fba-f2f3-4dc6-cd64-52fb3c8aa74a"
      },
      "outputs": [
        {
          "data": {
            "text/html": [
              "<div>\n",
              "<style scoped>\n",
              "    .dataframe tbody tr th:only-of-type {\n",
              "        vertical-align: middle;\n",
              "    }\n",
              "\n",
              "    .dataframe tbody tr th {\n",
              "        vertical-align: top;\n",
              "    }\n",
              "\n",
              "    .dataframe thead tr th {\n",
              "        text-align: left;\n",
              "    }\n",
              "\n",
              "    .dataframe thead tr:last-of-type th {\n",
              "        text-align: right;\n",
              "    }\n",
              "</style>\n",
              "<table border=\"1\" class=\"dataframe\">\n",
              "  <thead>\n",
              "    <tr>\n",
              "      <th></th>\n",
              "      <th>state</th>\n",
              "      <th colspan=\"2\" halign=\"left\">Ohio</th>\n",
              "      <th>Colorado</th>\n",
              "    </tr>\n",
              "    <tr>\n",
              "      <th></th>\n",
              "      <th>color</th>\n",
              "      <th>Green</th>\n",
              "      <th>Red</th>\n",
              "      <th>Green</th>\n",
              "    </tr>\n",
              "    <tr>\n",
              "      <th>key1</th>\n",
              "      <th>key2</th>\n",
              "      <th></th>\n",
              "      <th></th>\n",
              "      <th></th>\n",
              "    </tr>\n",
              "  </thead>\n",
              "  <tbody>\n",
              "    <tr>\n",
              "      <th rowspan=\"2\" valign=\"top\">a</th>\n",
              "      <th>1</th>\n",
              "      <td>0</td>\n",
              "      <td>1</td>\n",
              "      <td>2</td>\n",
              "    </tr>\n",
              "    <tr>\n",
              "      <th>2</th>\n",
              "      <td>3</td>\n",
              "      <td>4</td>\n",
              "      <td>5</td>\n",
              "    </tr>\n",
              "    <tr>\n",
              "      <th rowspan=\"2\" valign=\"top\">b</th>\n",
              "      <th>1</th>\n",
              "      <td>6</td>\n",
              "      <td>7</td>\n",
              "      <td>8</td>\n",
              "    </tr>\n",
              "    <tr>\n",
              "      <th>2</th>\n",
              "      <td>9</td>\n",
              "      <td>10</td>\n",
              "      <td>11</td>\n",
              "    </tr>\n",
              "  </tbody>\n",
              "</table>\n",
              "</div>"
            ],
            "text/plain": [
              "state      Ohio     Colorado\n",
              "color     Green Red    Green\n",
              "key1 key2                   \n",
              "a    1        0   1        2\n",
              "     2        3   4        5\n",
              "b    1        6   7        8\n",
              "     2        9  10       11"
            ]
          },
          "execution_count": 23,
          "metadata": {},
          "output_type": "execute_result"
        }
      ],
      "source": [
        "frame"
      ]
    },
    {
      "cell_type": "code",
      "execution_count": null,
      "metadata": {
        "id": "t33g026ZIEpM",
        "outputId": "edf8fe19-29f4-4ec1-9b77-751e6d8d816a"
      },
      "outputs": [
        {
          "data": {
            "text/html": [
              "<div>\n",
              "<style scoped>\n",
              "    .dataframe tbody tr th:only-of-type {\n",
              "        vertical-align: middle;\n",
              "    }\n",
              "\n",
              "    .dataframe tbody tr th {\n",
              "        vertical-align: top;\n",
              "    }\n",
              "\n",
              "    .dataframe thead th {\n",
              "        text-align: right;\n",
              "    }\n",
              "</style>\n",
              "<table border=\"1\" class=\"dataframe\">\n",
              "  <thead>\n",
              "    <tr style=\"text-align: right;\">\n",
              "      <th></th>\n",
              "      <th>color</th>\n",
              "      <th>Green</th>\n",
              "      <th>Red</th>\n",
              "    </tr>\n",
              "    <tr>\n",
              "      <th>key1</th>\n",
              "      <th>key2</th>\n",
              "      <th></th>\n",
              "      <th></th>\n",
              "    </tr>\n",
              "  </thead>\n",
              "  <tbody>\n",
              "    <tr>\n",
              "      <th rowspan=\"2\" valign=\"top\">a</th>\n",
              "      <th>1</th>\n",
              "      <td>2</td>\n",
              "      <td>1</td>\n",
              "    </tr>\n",
              "    <tr>\n",
              "      <th>2</th>\n",
              "      <td>8</td>\n",
              "      <td>4</td>\n",
              "    </tr>\n",
              "    <tr>\n",
              "      <th rowspan=\"2\" valign=\"top\">b</th>\n",
              "      <th>1</th>\n",
              "      <td>14</td>\n",
              "      <td>7</td>\n",
              "    </tr>\n",
              "    <tr>\n",
              "      <th>2</th>\n",
              "      <td>20</td>\n",
              "      <td>10</td>\n",
              "    </tr>\n",
              "  </tbody>\n",
              "</table>\n",
              "</div>"
            ],
            "text/plain": [
              "color      Green  Red\n",
              "key1 key2            \n",
              "a    1         2    1\n",
              "     2         8    4\n",
              "b    1        14    7\n",
              "     2        20   10"
            ]
          },
          "execution_count": 24,
          "metadata": {},
          "output_type": "execute_result"
        }
      ],
      "source": [
        "frame.groupby(level=\"color\", axis=\"columns\").sum()"
      ]
    },
    {
      "cell_type": "markdown",
      "metadata": {
        "id": "0FNUyj97IEpM"
      },
      "source": [
        "### 인덱스 지정과 초기화"
      ]
    },
    {
      "cell_type": "code",
      "execution_count": null,
      "metadata": {
        "id": "4badUK0MIEpM",
        "outputId": "c81853a6-277c-49e7-f7ce-0caa6dbb2142"
      },
      "outputs": [
        {
          "data": {
            "text/html": [
              "<div>\n",
              "<style scoped>\n",
              "    .dataframe tbody tr th:only-of-type {\n",
              "        vertical-align: middle;\n",
              "    }\n",
              "\n",
              "    .dataframe tbody tr th {\n",
              "        vertical-align: top;\n",
              "    }\n",
              "\n",
              "    .dataframe thead th {\n",
              "        text-align: right;\n",
              "    }\n",
              "</style>\n",
              "<table border=\"1\" class=\"dataframe\">\n",
              "  <thead>\n",
              "    <tr style=\"text-align: right;\">\n",
              "      <th></th>\n",
              "      <th>a</th>\n",
              "      <th>b</th>\n",
              "      <th>c</th>\n",
              "      <th>d</th>\n",
              "    </tr>\n",
              "  </thead>\n",
              "  <tbody>\n",
              "    <tr>\n",
              "      <th>0</th>\n",
              "      <td>0</td>\n",
              "      <td>7</td>\n",
              "      <td>one</td>\n",
              "      <td>0</td>\n",
              "    </tr>\n",
              "    <tr>\n",
              "      <th>1</th>\n",
              "      <td>1</td>\n",
              "      <td>6</td>\n",
              "      <td>one</td>\n",
              "      <td>1</td>\n",
              "    </tr>\n",
              "    <tr>\n",
              "      <th>2</th>\n",
              "      <td>2</td>\n",
              "      <td>5</td>\n",
              "      <td>one</td>\n",
              "      <td>2</td>\n",
              "    </tr>\n",
              "    <tr>\n",
              "      <th>3</th>\n",
              "      <td>3</td>\n",
              "      <td>4</td>\n",
              "      <td>two</td>\n",
              "      <td>0</td>\n",
              "    </tr>\n",
              "    <tr>\n",
              "      <th>4</th>\n",
              "      <td>4</td>\n",
              "      <td>3</td>\n",
              "      <td>two</td>\n",
              "      <td>1</td>\n",
              "    </tr>\n",
              "    <tr>\n",
              "      <th>5</th>\n",
              "      <td>5</td>\n",
              "      <td>2</td>\n",
              "      <td>two</td>\n",
              "      <td>2</td>\n",
              "    </tr>\n",
              "    <tr>\n",
              "      <th>6</th>\n",
              "      <td>6</td>\n",
              "      <td>1</td>\n",
              "      <td>two</td>\n",
              "      <td>3</td>\n",
              "    </tr>\n",
              "  </tbody>\n",
              "</table>\n",
              "</div>"
            ],
            "text/plain": [
              "   a  b    c  d\n",
              "0  0  7  one  0\n",
              "1  1  6  one  1\n",
              "2  2  5  one  2\n",
              "3  3  4  two  0\n",
              "4  4  3  two  1\n",
              "5  5  2  two  2\n",
              "6  6  1  two  3"
            ]
          },
          "execution_count": 25,
          "metadata": {},
          "output_type": "execute_result"
        }
      ],
      "source": [
        "frame = pd.DataFrame({\"a\": range(7), \"b\": range(7, 0, -1),\n",
        "                      \"c\": [\"one\", \"one\", \"one\", \"two\", \"two\",\n",
        "                            \"two\", \"two\"],\n",
        "                      \"d\": [0, 1, 2, 0, 1, 2, 3]})\n",
        "frame"
      ]
    },
    {
      "cell_type": "markdown",
      "metadata": {
        "id": "mVRcd3JkIEpN"
      },
      "source": [
        "* `set_index()` 메서드: 열의 특정 라벨을 이용하여 (멀티)인덱스를 지정한다."
      ]
    },
    {
      "cell_type": "code",
      "execution_count": null,
      "metadata": {
        "id": "3A6xxImZIEpN",
        "outputId": "ba0f01ec-eec8-4886-d9a9-182c8586a072"
      },
      "outputs": [
        {
          "data": {
            "text/html": [
              "<div>\n",
              "<style scoped>\n",
              "    .dataframe tbody tr th:only-of-type {\n",
              "        vertical-align: middle;\n",
              "    }\n",
              "\n",
              "    .dataframe tbody tr th {\n",
              "        vertical-align: top;\n",
              "    }\n",
              "\n",
              "    .dataframe thead th {\n",
              "        text-align: right;\n",
              "    }\n",
              "</style>\n",
              "<table border=\"1\" class=\"dataframe\">\n",
              "  <thead>\n",
              "    <tr style=\"text-align: right;\">\n",
              "      <th></th>\n",
              "      <th></th>\n",
              "      <th>a</th>\n",
              "      <th>b</th>\n",
              "    </tr>\n",
              "    <tr>\n",
              "      <th>c</th>\n",
              "      <th>d</th>\n",
              "      <th></th>\n",
              "      <th></th>\n",
              "    </tr>\n",
              "  </thead>\n",
              "  <tbody>\n",
              "    <tr>\n",
              "      <th rowspan=\"3\" valign=\"top\">one</th>\n",
              "      <th>0</th>\n",
              "      <td>0</td>\n",
              "      <td>7</td>\n",
              "    </tr>\n",
              "    <tr>\n",
              "      <th>1</th>\n",
              "      <td>1</td>\n",
              "      <td>6</td>\n",
              "    </tr>\n",
              "    <tr>\n",
              "      <th>2</th>\n",
              "      <td>2</td>\n",
              "      <td>5</td>\n",
              "    </tr>\n",
              "    <tr>\n",
              "      <th rowspan=\"4\" valign=\"top\">two</th>\n",
              "      <th>0</th>\n",
              "      <td>3</td>\n",
              "      <td>4</td>\n",
              "    </tr>\n",
              "    <tr>\n",
              "      <th>1</th>\n",
              "      <td>4</td>\n",
              "      <td>3</td>\n",
              "    </tr>\n",
              "    <tr>\n",
              "      <th>2</th>\n",
              "      <td>5</td>\n",
              "      <td>2</td>\n",
              "    </tr>\n",
              "    <tr>\n",
              "      <th>3</th>\n",
              "      <td>6</td>\n",
              "      <td>1</td>\n",
              "    </tr>\n",
              "  </tbody>\n",
              "</table>\n",
              "</div>"
            ],
            "text/plain": [
              "       a  b\n",
              "c   d      \n",
              "one 0  0  7\n",
              "    1  1  6\n",
              "    2  2  5\n",
              "two 0  3  4\n",
              "    1  4  3\n",
              "    2  5  2\n",
              "    3  6  1"
            ]
          },
          "execution_count": 26,
          "metadata": {},
          "output_type": "execute_result"
        }
      ],
      "source": [
        "frame2 = frame.set_index([\"c\", \"d\"])\n",
        "frame2"
      ]
    },
    {
      "cell_type": "markdown",
      "metadata": {
        "id": "aafgMYLkIEpN"
      },
      "source": [
        "인덱스에 사용된 열을 그대로 둘 수도 있다."
      ]
    },
    {
      "cell_type": "code",
      "execution_count": null,
      "metadata": {
        "id": "YUD_qy-BIEpN",
        "outputId": "6f1e10b9-210e-4cb2-98dd-e93211e4e45d"
      },
      "outputs": [
        {
          "data": {
            "text/html": [
              "<div>\n",
              "<style scoped>\n",
              "    .dataframe tbody tr th:only-of-type {\n",
              "        vertical-align: middle;\n",
              "    }\n",
              "\n",
              "    .dataframe tbody tr th {\n",
              "        vertical-align: top;\n",
              "    }\n",
              "\n",
              "    .dataframe thead th {\n",
              "        text-align: right;\n",
              "    }\n",
              "</style>\n",
              "<table border=\"1\" class=\"dataframe\">\n",
              "  <thead>\n",
              "    <tr style=\"text-align: right;\">\n",
              "      <th></th>\n",
              "      <th></th>\n",
              "      <th>a</th>\n",
              "      <th>b</th>\n",
              "      <th>c</th>\n",
              "      <th>d</th>\n",
              "    </tr>\n",
              "    <tr>\n",
              "      <th>c</th>\n",
              "      <th>d</th>\n",
              "      <th></th>\n",
              "      <th></th>\n",
              "      <th></th>\n",
              "      <th></th>\n",
              "    </tr>\n",
              "  </thead>\n",
              "  <tbody>\n",
              "    <tr>\n",
              "      <th rowspan=\"3\" valign=\"top\">one</th>\n",
              "      <th>0</th>\n",
              "      <td>0</td>\n",
              "      <td>7</td>\n",
              "      <td>one</td>\n",
              "      <td>0</td>\n",
              "    </tr>\n",
              "    <tr>\n",
              "      <th>1</th>\n",
              "      <td>1</td>\n",
              "      <td>6</td>\n",
              "      <td>one</td>\n",
              "      <td>1</td>\n",
              "    </tr>\n",
              "    <tr>\n",
              "      <th>2</th>\n",
              "      <td>2</td>\n",
              "      <td>5</td>\n",
              "      <td>one</td>\n",
              "      <td>2</td>\n",
              "    </tr>\n",
              "    <tr>\n",
              "      <th rowspan=\"4\" valign=\"top\">two</th>\n",
              "      <th>0</th>\n",
              "      <td>3</td>\n",
              "      <td>4</td>\n",
              "      <td>two</td>\n",
              "      <td>0</td>\n",
              "    </tr>\n",
              "    <tr>\n",
              "      <th>1</th>\n",
              "      <td>4</td>\n",
              "      <td>3</td>\n",
              "      <td>two</td>\n",
              "      <td>1</td>\n",
              "    </tr>\n",
              "    <tr>\n",
              "      <th>2</th>\n",
              "      <td>5</td>\n",
              "      <td>2</td>\n",
              "      <td>two</td>\n",
              "      <td>2</td>\n",
              "    </tr>\n",
              "    <tr>\n",
              "      <th>3</th>\n",
              "      <td>6</td>\n",
              "      <td>1</td>\n",
              "      <td>two</td>\n",
              "      <td>3</td>\n",
              "    </tr>\n",
              "  </tbody>\n",
              "</table>\n",
              "</div>"
            ],
            "text/plain": [
              "       a  b    c  d\n",
              "c   d              \n",
              "one 0  0  7  one  0\n",
              "    1  1  6  one  1\n",
              "    2  2  5  one  2\n",
              "two 0  3  4  two  0\n",
              "    1  4  3  two  1\n",
              "    2  5  2  two  2\n",
              "    3  6  1  two  3"
            ]
          },
          "execution_count": 27,
          "metadata": {},
          "output_type": "execute_result"
        }
      ],
      "source": [
        "frame.set_index([\"c\", \"d\"], drop=False)"
      ]
    },
    {
      "cell_type": "markdown",
      "metadata": {
        "id": "JYX5NQTmIEpN"
      },
      "source": [
        "* `reset_index()` 메서드: (멀티)인덱스를 열로 변환시키고 정수 인덱스를 지정"
      ]
    },
    {
      "cell_type": "code",
      "execution_count": null,
      "metadata": {
        "id": "9D7QANoTIEpN",
        "outputId": "5028a24b-73b9-4a1b-e3e8-aba1a9840711"
      },
      "outputs": [
        {
          "data": {
            "text/html": [
              "<div>\n",
              "<style scoped>\n",
              "    .dataframe tbody tr th:only-of-type {\n",
              "        vertical-align: middle;\n",
              "    }\n",
              "\n",
              "    .dataframe tbody tr th {\n",
              "        vertical-align: top;\n",
              "    }\n",
              "\n",
              "    .dataframe thead th {\n",
              "        text-align: right;\n",
              "    }\n",
              "</style>\n",
              "<table border=\"1\" class=\"dataframe\">\n",
              "  <thead>\n",
              "    <tr style=\"text-align: right;\">\n",
              "      <th></th>\n",
              "      <th>c</th>\n",
              "      <th>d</th>\n",
              "      <th>a</th>\n",
              "      <th>b</th>\n",
              "    </tr>\n",
              "  </thead>\n",
              "  <tbody>\n",
              "    <tr>\n",
              "      <th>0</th>\n",
              "      <td>one</td>\n",
              "      <td>0</td>\n",
              "      <td>0</td>\n",
              "      <td>7</td>\n",
              "    </tr>\n",
              "    <tr>\n",
              "      <th>1</th>\n",
              "      <td>one</td>\n",
              "      <td>1</td>\n",
              "      <td>1</td>\n",
              "      <td>6</td>\n",
              "    </tr>\n",
              "    <tr>\n",
              "      <th>2</th>\n",
              "      <td>one</td>\n",
              "      <td>2</td>\n",
              "      <td>2</td>\n",
              "      <td>5</td>\n",
              "    </tr>\n",
              "    <tr>\n",
              "      <th>3</th>\n",
              "      <td>two</td>\n",
              "      <td>0</td>\n",
              "      <td>3</td>\n",
              "      <td>4</td>\n",
              "    </tr>\n",
              "    <tr>\n",
              "      <th>4</th>\n",
              "      <td>two</td>\n",
              "      <td>1</td>\n",
              "      <td>4</td>\n",
              "      <td>3</td>\n",
              "    </tr>\n",
              "    <tr>\n",
              "      <th>5</th>\n",
              "      <td>two</td>\n",
              "      <td>2</td>\n",
              "      <td>5</td>\n",
              "      <td>2</td>\n",
              "    </tr>\n",
              "    <tr>\n",
              "      <th>6</th>\n",
              "      <td>two</td>\n",
              "      <td>3</td>\n",
              "      <td>6</td>\n",
              "      <td>1</td>\n",
              "    </tr>\n",
              "  </tbody>\n",
              "</table>\n",
              "</div>"
            ],
            "text/plain": [
              "     c  d  a  b\n",
              "0  one  0  0  7\n",
              "1  one  1  1  6\n",
              "2  one  2  2  5\n",
              "3  two  0  3  4\n",
              "4  two  1  4  3\n",
              "5  two  2  5  2\n",
              "6  two  3  6  1"
            ]
          },
          "execution_count": 28,
          "metadata": {},
          "output_type": "execute_result"
        }
      ],
      "source": [
        "frame2.reset_index()"
      ]
    },
    {
      "cell_type": "markdown",
      "metadata": {
        "id": "8IQAMsBeIEpN"
      },
      "source": [
        "- `drop=True` 옵션: 인덱스로 사용된 라벨을 모두 삭제"
      ]
    },
    {
      "cell_type": "code",
      "execution_count": null,
      "metadata": {
        "id": "2rsZWTFhIEpN",
        "outputId": "80f3d0d9-4acd-4b70-9c67-2adc6b3ca44e"
      },
      "outputs": [
        {
          "data": {
            "text/html": [
              "<div>\n",
              "<style scoped>\n",
              "    .dataframe tbody tr th:only-of-type {\n",
              "        vertical-align: middle;\n",
              "    }\n",
              "\n",
              "    .dataframe tbody tr th {\n",
              "        vertical-align: top;\n",
              "    }\n",
              "\n",
              "    .dataframe thead th {\n",
              "        text-align: right;\n",
              "    }\n",
              "</style>\n",
              "<table border=\"1\" class=\"dataframe\">\n",
              "  <thead>\n",
              "    <tr style=\"text-align: right;\">\n",
              "      <th></th>\n",
              "      <th>a</th>\n",
              "      <th>b</th>\n",
              "    </tr>\n",
              "  </thead>\n",
              "  <tbody>\n",
              "    <tr>\n",
              "      <th>0</th>\n",
              "      <td>0</td>\n",
              "      <td>7</td>\n",
              "    </tr>\n",
              "    <tr>\n",
              "      <th>1</th>\n",
              "      <td>1</td>\n",
              "      <td>6</td>\n",
              "    </tr>\n",
              "    <tr>\n",
              "      <th>2</th>\n",
              "      <td>2</td>\n",
              "      <td>5</td>\n",
              "    </tr>\n",
              "    <tr>\n",
              "      <th>3</th>\n",
              "      <td>3</td>\n",
              "      <td>4</td>\n",
              "    </tr>\n",
              "    <tr>\n",
              "      <th>4</th>\n",
              "      <td>4</td>\n",
              "      <td>3</td>\n",
              "    </tr>\n",
              "    <tr>\n",
              "      <th>5</th>\n",
              "      <td>5</td>\n",
              "      <td>2</td>\n",
              "    </tr>\n",
              "    <tr>\n",
              "      <th>6</th>\n",
              "      <td>6</td>\n",
              "      <td>1</td>\n",
              "    </tr>\n",
              "  </tbody>\n",
              "</table>\n",
              "</div>"
            ],
            "text/plain": [
              "   a  b\n",
              "0  0  7\n",
              "1  1  6\n",
              "2  2  5\n",
              "3  3  4\n",
              "4  4  3\n",
              "5  5  2\n",
              "6  6  1"
            ]
          },
          "execution_count": 29,
          "metadata": {},
          "output_type": "execute_result"
        }
      ],
      "source": [
        "frame2.reset_index(drop=True)"
      ]
    },
    {
      "cell_type": "markdown",
      "metadata": {
        "id": "LqQaYm9FIEpN"
      },
      "source": [
        "## 모양 변환"
      ]
    },
    {
      "cell_type": "markdown",
      "metadata": {
        "id": "7w8zGCpLIEpO"
      },
      "source": [
        "### 항목 재배열"
      ]
    },
    {
      "cell_type": "markdown",
      "metadata": {
        "id": "E-BVyRwqIEpO"
      },
      "source": [
        "- 스택\n",
        "- 언스택"
      ]
    },
    {
      "cell_type": "code",
      "execution_count": null,
      "metadata": {
        "id": "zEDGNeMvIEpO",
        "outputId": "3314afea-c7ea-4bb4-e083-0e37a0a3f984"
      },
      "outputs": [
        {
          "data": {
            "text/html": [
              "<div>\n",
              "<style scoped>\n",
              "    .dataframe tbody tr th:only-of-type {\n",
              "        vertical-align: middle;\n",
              "    }\n",
              "\n",
              "    .dataframe tbody tr th {\n",
              "        vertical-align: top;\n",
              "    }\n",
              "\n",
              "    .dataframe thead th {\n",
              "        text-align: right;\n",
              "    }\n",
              "</style>\n",
              "<table border=\"1\" class=\"dataframe\">\n",
              "  <thead>\n",
              "    <tr style=\"text-align: right;\">\n",
              "      <th>number</th>\n",
              "      <th>one</th>\n",
              "      <th>two</th>\n",
              "      <th>three</th>\n",
              "    </tr>\n",
              "    <tr>\n",
              "      <th>state</th>\n",
              "      <th></th>\n",
              "      <th></th>\n",
              "      <th></th>\n",
              "    </tr>\n",
              "  </thead>\n",
              "  <tbody>\n",
              "    <tr>\n",
              "      <th>Ohio</th>\n",
              "      <td>0</td>\n",
              "      <td>1</td>\n",
              "      <td>2</td>\n",
              "    </tr>\n",
              "    <tr>\n",
              "      <th>Colorado</th>\n",
              "      <td>3</td>\n",
              "      <td>4</td>\n",
              "      <td>5</td>\n",
              "    </tr>\n",
              "  </tbody>\n",
              "</table>\n",
              "</div>"
            ],
            "text/plain": [
              "number    one  two  three\n",
              "state                    \n",
              "Ohio        0    1      2\n",
              "Colorado    3    4      5"
            ]
          },
          "execution_count": 30,
          "metadata": {},
          "output_type": "execute_result"
        }
      ],
      "source": [
        "data = pd.DataFrame(np.arange(6).reshape((2, 3)),\n",
        "                    index=pd.Index([\"Ohio\", \"Colorado\"], name=\"state\"),\n",
        "                    columns=pd.Index([\"one\", \"two\", \"three\"],\n",
        "                    name=\"number\"))\n",
        "data"
      ]
    },
    {
      "cell_type": "code",
      "execution_count": null,
      "metadata": {
        "id": "rrqMl7XjIEpO",
        "outputId": "c8611a08-4874-47c0-c0d1-5c55442dc72b"
      },
      "outputs": [
        {
          "data": {
            "text/plain": [
              "state     number\n",
              "Ohio      one       0\n",
              "          two       1\n",
              "          three     2\n",
              "Colorado  one       3\n",
              "          two       4\n",
              "          three     5\n",
              "dtype: int64"
            ]
          },
          "execution_count": 31,
          "metadata": {},
          "output_type": "execute_result"
        }
      ],
      "source": [
        "result = data.stack()\n",
        "result"
      ]
    },
    {
      "cell_type": "code",
      "execution_count": null,
      "metadata": {
        "id": "jurFxp9hIEpO",
        "outputId": "96bc118c-acda-4e15-d1f3-36151142dc05"
      },
      "outputs": [
        {
          "data": {
            "text/html": [
              "<div>\n",
              "<style scoped>\n",
              "    .dataframe tbody tr th:only-of-type {\n",
              "        vertical-align: middle;\n",
              "    }\n",
              "\n",
              "    .dataframe tbody tr th {\n",
              "        vertical-align: top;\n",
              "    }\n",
              "\n",
              "    .dataframe thead th {\n",
              "        text-align: right;\n",
              "    }\n",
              "</style>\n",
              "<table border=\"1\" class=\"dataframe\">\n",
              "  <thead>\n",
              "    <tr style=\"text-align: right;\">\n",
              "      <th>number</th>\n",
              "      <th>one</th>\n",
              "      <th>two</th>\n",
              "      <th>three</th>\n",
              "    </tr>\n",
              "    <tr>\n",
              "      <th>state</th>\n",
              "      <th></th>\n",
              "      <th></th>\n",
              "      <th></th>\n",
              "    </tr>\n",
              "  </thead>\n",
              "  <tbody>\n",
              "    <tr>\n",
              "      <th>Ohio</th>\n",
              "      <td>0</td>\n",
              "      <td>1</td>\n",
              "      <td>2</td>\n",
              "    </tr>\n",
              "    <tr>\n",
              "      <th>Colorado</th>\n",
              "      <td>3</td>\n",
              "      <td>4</td>\n",
              "      <td>5</td>\n",
              "    </tr>\n",
              "  </tbody>\n",
              "</table>\n",
              "</div>"
            ],
            "text/plain": [
              "number    one  two  three\n",
              "state                    \n",
              "Ohio        0    1      2\n",
              "Colorado    3    4      5"
            ]
          },
          "execution_count": 32,
          "metadata": {},
          "output_type": "execute_result"
        }
      ],
      "source": [
        "result.unstack()"
      ]
    },
    {
      "cell_type": "code",
      "execution_count": null,
      "metadata": {
        "id": "TptkkTFVIEpO",
        "outputId": "f3198e09-4799-4315-c483-e66124d4c4a1"
      },
      "outputs": [
        {
          "data": {
            "text/html": [
              "<div>\n",
              "<style scoped>\n",
              "    .dataframe tbody tr th:only-of-type {\n",
              "        vertical-align: middle;\n",
              "    }\n",
              "\n",
              "    .dataframe tbody tr th {\n",
              "        vertical-align: top;\n",
              "    }\n",
              "\n",
              "    .dataframe thead th {\n",
              "        text-align: right;\n",
              "    }\n",
              "</style>\n",
              "<table border=\"1\" class=\"dataframe\">\n",
              "  <thead>\n",
              "    <tr style=\"text-align: right;\">\n",
              "      <th>state</th>\n",
              "      <th>Ohio</th>\n",
              "      <th>Colorado</th>\n",
              "    </tr>\n",
              "    <tr>\n",
              "      <th>number</th>\n",
              "      <th></th>\n",
              "      <th></th>\n",
              "    </tr>\n",
              "  </thead>\n",
              "  <tbody>\n",
              "    <tr>\n",
              "      <th>one</th>\n",
              "      <td>0</td>\n",
              "      <td>3</td>\n",
              "    </tr>\n",
              "    <tr>\n",
              "      <th>two</th>\n",
              "      <td>1</td>\n",
              "      <td>4</td>\n",
              "    </tr>\n",
              "    <tr>\n",
              "      <th>three</th>\n",
              "      <td>2</td>\n",
              "      <td>5</td>\n",
              "    </tr>\n",
              "  </tbody>\n",
              "</table>\n",
              "</div>"
            ],
            "text/plain": [
              "state   Ohio  Colorado\n",
              "number                \n",
              "one        0         3\n",
              "two        1         4\n",
              "three      2         5"
            ]
          },
          "execution_count": 33,
          "metadata": {},
          "output_type": "execute_result"
        }
      ],
      "source": [
        "result.unstack(level=0)"
      ]
    },
    {
      "cell_type": "code",
      "execution_count": null,
      "metadata": {
        "id": "3eSWSOoEIEpO",
        "outputId": "df75d53b-35b2-4063-90d4-34aabaf524a8"
      },
      "outputs": [
        {
          "data": {
            "text/html": [
              "<div>\n",
              "<style scoped>\n",
              "    .dataframe tbody tr th:only-of-type {\n",
              "        vertical-align: middle;\n",
              "    }\n",
              "\n",
              "    .dataframe tbody tr th {\n",
              "        vertical-align: top;\n",
              "    }\n",
              "\n",
              "    .dataframe thead th {\n",
              "        text-align: right;\n",
              "    }\n",
              "</style>\n",
              "<table border=\"1\" class=\"dataframe\">\n",
              "  <thead>\n",
              "    <tr style=\"text-align: right;\">\n",
              "      <th>state</th>\n",
              "      <th>Ohio</th>\n",
              "      <th>Colorado</th>\n",
              "    </tr>\n",
              "    <tr>\n",
              "      <th>number</th>\n",
              "      <th></th>\n",
              "      <th></th>\n",
              "    </tr>\n",
              "  </thead>\n",
              "  <tbody>\n",
              "    <tr>\n",
              "      <th>one</th>\n",
              "      <td>0</td>\n",
              "      <td>3</td>\n",
              "    </tr>\n",
              "    <tr>\n",
              "      <th>two</th>\n",
              "      <td>1</td>\n",
              "      <td>4</td>\n",
              "    </tr>\n",
              "    <tr>\n",
              "      <th>three</th>\n",
              "      <td>2</td>\n",
              "      <td>5</td>\n",
              "    </tr>\n",
              "  </tbody>\n",
              "</table>\n",
              "</div>"
            ],
            "text/plain": [
              "state   Ohio  Colorado\n",
              "number                \n",
              "one        0         3\n",
              "two        1         4\n",
              "three      2         5"
            ]
          },
          "execution_count": 34,
          "metadata": {},
          "output_type": "execute_result"
        }
      ],
      "source": [
        "result.unstack(level=\"state\")"
      ]
    },
    {
      "cell_type": "code",
      "execution_count": null,
      "metadata": {
        "id": "qs-Kd81_IEpO",
        "outputId": "7d464448-d74d-4afc-fb07-4ec605518f85"
      },
      "outputs": [
        {
          "data": {
            "text/plain": [
              "one  a    0\n",
              "     b    1\n",
              "     c    2\n",
              "     d    3\n",
              "two  c    4\n",
              "     d    5\n",
              "     e    6\n",
              "dtype: Int64"
            ]
          },
          "execution_count": 35,
          "metadata": {},
          "output_type": "execute_result"
        }
      ],
      "source": [
        "s1 = pd.Series([0, 1, 2, 3], index=[\"a\", \"b\", \"c\", \"d\"], dtype=\"Int64\")\n",
        "s2 = pd.Series([4, 5, 6], index=[\"c\", \"d\", \"e\"], dtype=\"Int64\")\n",
        "data2 = pd.concat([s1, s2], keys=[\"one\", \"two\"])\n",
        "\n",
        "data2"
      ]
    },
    {
      "cell_type": "code",
      "execution_count": null,
      "metadata": {
        "id": "ADpVO3xvIEpP",
        "outputId": "4260dc4f-0328-4b12-baee-ee808ebcb546"
      },
      "outputs": [
        {
          "data": {
            "text/html": [
              "<div>\n",
              "<style scoped>\n",
              "    .dataframe tbody tr th:only-of-type {\n",
              "        vertical-align: middle;\n",
              "    }\n",
              "\n",
              "    .dataframe tbody tr th {\n",
              "        vertical-align: top;\n",
              "    }\n",
              "\n",
              "    .dataframe thead th {\n",
              "        text-align: right;\n",
              "    }\n",
              "</style>\n",
              "<table border=\"1\" class=\"dataframe\">\n",
              "  <thead>\n",
              "    <tr style=\"text-align: right;\">\n",
              "      <th></th>\n",
              "      <th>a</th>\n",
              "      <th>b</th>\n",
              "      <th>c</th>\n",
              "      <th>d</th>\n",
              "      <th>e</th>\n",
              "    </tr>\n",
              "  </thead>\n",
              "  <tbody>\n",
              "    <tr>\n",
              "      <th>one</th>\n",
              "      <td>0</td>\n",
              "      <td>1</td>\n",
              "      <td>2</td>\n",
              "      <td>3</td>\n",
              "      <td>&lt;NA&gt;</td>\n",
              "    </tr>\n",
              "    <tr>\n",
              "      <th>two</th>\n",
              "      <td>&lt;NA&gt;</td>\n",
              "      <td>&lt;NA&gt;</td>\n",
              "      <td>4</td>\n",
              "      <td>5</td>\n",
              "      <td>6</td>\n",
              "    </tr>\n",
              "  </tbody>\n",
              "</table>\n",
              "</div>"
            ],
            "text/plain": [
              "        a     b  c  d     e\n",
              "one     0     1  2  3  <NA>\n",
              "two  <NA>  <NA>  4  5     6"
            ]
          },
          "execution_count": 36,
          "metadata": {},
          "output_type": "execute_result"
        }
      ],
      "source": [
        "data2.unstack()"
      ]
    },
    {
      "cell_type": "code",
      "execution_count": null,
      "metadata": {
        "id": "zqlp8KRtIEpP",
        "outputId": "fa881736-0230-4c4b-cf16-085924a85acd"
      },
      "outputs": [
        {
          "data": {
            "text/plain": [
              "one  a    0\n",
              "     b    1\n",
              "     c    2\n",
              "     d    3\n",
              "two  c    4\n",
              "     d    5\n",
              "     e    6\n",
              "dtype: Int64"
            ]
          },
          "execution_count": 37,
          "metadata": {},
          "output_type": "execute_result"
        }
      ],
      "source": [
        "data2.unstack().stack()"
      ]
    },
    {
      "cell_type": "markdown",
      "metadata": {
        "id": "eS744a-wIEpP"
      },
      "source": [
        "- `dropna=False` 키워드 인자: 항목 재배치 과정에서 발생하는 결측치를 그대로 둚"
      ]
    },
    {
      "cell_type": "code",
      "execution_count": null,
      "metadata": {
        "id": "C6qMAVNyIEpP",
        "outputId": "13b97009-ff2f-44e2-ec02-4d5cfecac838"
      },
      "outputs": [
        {
          "data": {
            "text/plain": [
              "one  a       0\n",
              "     b       1\n",
              "     c       2\n",
              "     d       3\n",
              "     e    <NA>\n",
              "two  a    <NA>\n",
              "     b    <NA>\n",
              "     c       4\n",
              "     d       5\n",
              "     e       6\n",
              "dtype: Int64"
            ]
          },
          "execution_count": 38,
          "metadata": {},
          "output_type": "execute_result"
        }
      ],
      "source": [
        "data2.unstack().stack(dropna=False)"
      ]
    },
    {
      "cell_type": "markdown",
      "metadata": {
        "id": "KjgNUf2NIEpP"
      },
      "source": [
        "**레벨 활용 스택/언스택**"
      ]
    },
    {
      "cell_type": "code",
      "execution_count": null,
      "metadata": {
        "id": "fO_iLN-VIEpP",
        "outputId": "e6c520b1-9d0e-43ec-dffd-4bf0e8af3500"
      },
      "outputs": [
        {
          "data": {
            "text/html": [
              "<div>\n",
              "<style scoped>\n",
              "    .dataframe tbody tr th:only-of-type {\n",
              "        vertical-align: middle;\n",
              "    }\n",
              "\n",
              "    .dataframe tbody tr th {\n",
              "        vertical-align: top;\n",
              "    }\n",
              "\n",
              "    .dataframe thead th {\n",
              "        text-align: right;\n",
              "    }\n",
              "</style>\n",
              "<table border=\"1\" class=\"dataframe\">\n",
              "  <thead>\n",
              "    <tr style=\"text-align: right;\">\n",
              "      <th></th>\n",
              "      <th>side</th>\n",
              "      <th>left</th>\n",
              "      <th>right</th>\n",
              "    </tr>\n",
              "    <tr>\n",
              "      <th>state</th>\n",
              "      <th>number</th>\n",
              "      <th></th>\n",
              "      <th></th>\n",
              "    </tr>\n",
              "  </thead>\n",
              "  <tbody>\n",
              "    <tr>\n",
              "      <th rowspan=\"3\" valign=\"top\">Ohio</th>\n",
              "      <th>one</th>\n",
              "      <td>0</td>\n",
              "      <td>5</td>\n",
              "    </tr>\n",
              "    <tr>\n",
              "      <th>two</th>\n",
              "      <td>1</td>\n",
              "      <td>6</td>\n",
              "    </tr>\n",
              "    <tr>\n",
              "      <th>three</th>\n",
              "      <td>2</td>\n",
              "      <td>7</td>\n",
              "    </tr>\n",
              "    <tr>\n",
              "      <th rowspan=\"3\" valign=\"top\">Colorado</th>\n",
              "      <th>one</th>\n",
              "      <td>3</td>\n",
              "      <td>8</td>\n",
              "    </tr>\n",
              "    <tr>\n",
              "      <th>two</th>\n",
              "      <td>4</td>\n",
              "      <td>9</td>\n",
              "    </tr>\n",
              "    <tr>\n",
              "      <th>three</th>\n",
              "      <td>5</td>\n",
              "      <td>10</td>\n",
              "    </tr>\n",
              "  </tbody>\n",
              "</table>\n",
              "</div>"
            ],
            "text/plain": [
              "side             left  right\n",
              "state    number             \n",
              "Ohio     one        0      5\n",
              "         two        1      6\n",
              "         three      2      7\n",
              "Colorado one        3      8\n",
              "         two        4      9\n",
              "         three      5     10"
            ]
          },
          "execution_count": 39,
          "metadata": {},
          "output_type": "execute_result"
        }
      ],
      "source": [
        "df = pd.DataFrame({\"left\": result, \"right\": result + 5},\n",
        "                  columns=pd.Index([\"left\", \"right\"], name=\"side\"))\n",
        "df"
      ]
    },
    {
      "cell_type": "code",
      "execution_count": null,
      "metadata": {
        "id": "8WLdwFNzIEpP",
        "outputId": "1161b0e4-49fc-413e-f1e6-3d8548745e78"
      },
      "outputs": [
        {
          "data": {
            "text/html": [
              "<div>\n",
              "<style scoped>\n",
              "    .dataframe tbody tr th:only-of-type {\n",
              "        vertical-align: middle;\n",
              "    }\n",
              "\n",
              "    .dataframe tbody tr th {\n",
              "        vertical-align: top;\n",
              "    }\n",
              "\n",
              "    .dataframe thead tr th {\n",
              "        text-align: left;\n",
              "    }\n",
              "\n",
              "    .dataframe thead tr:last-of-type th {\n",
              "        text-align: right;\n",
              "    }\n",
              "</style>\n",
              "<table border=\"1\" class=\"dataframe\">\n",
              "  <thead>\n",
              "    <tr>\n",
              "      <th>side</th>\n",
              "      <th colspan=\"2\" halign=\"left\">left</th>\n",
              "      <th colspan=\"2\" halign=\"left\">right</th>\n",
              "    </tr>\n",
              "    <tr>\n",
              "      <th>state</th>\n",
              "      <th>Ohio</th>\n",
              "      <th>Colorado</th>\n",
              "      <th>Ohio</th>\n",
              "      <th>Colorado</th>\n",
              "    </tr>\n",
              "    <tr>\n",
              "      <th>number</th>\n",
              "      <th></th>\n",
              "      <th></th>\n",
              "      <th></th>\n",
              "      <th></th>\n",
              "    </tr>\n",
              "  </thead>\n",
              "  <tbody>\n",
              "    <tr>\n",
              "      <th>one</th>\n",
              "      <td>0</td>\n",
              "      <td>3</td>\n",
              "      <td>5</td>\n",
              "      <td>8</td>\n",
              "    </tr>\n",
              "    <tr>\n",
              "      <th>two</th>\n",
              "      <td>1</td>\n",
              "      <td>4</td>\n",
              "      <td>6</td>\n",
              "      <td>9</td>\n",
              "    </tr>\n",
              "    <tr>\n",
              "      <th>three</th>\n",
              "      <td>2</td>\n",
              "      <td>5</td>\n",
              "      <td>7</td>\n",
              "      <td>10</td>\n",
              "    </tr>\n",
              "  </tbody>\n",
              "</table>\n",
              "</div>"
            ],
            "text/plain": [
              "side   left          right         \n",
              "state  Ohio Colorado  Ohio Colorado\n",
              "number                             \n",
              "one       0        3     5        8\n",
              "two       1        4     6        9\n",
              "three     2        5     7       10"
            ]
          },
          "execution_count": 40,
          "metadata": {},
          "output_type": "execute_result"
        }
      ],
      "source": [
        "df.unstack(level=\"state\")"
      ]
    },
    {
      "cell_type": "code",
      "execution_count": null,
      "metadata": {
        "id": "-4hgXDUlIEpP",
        "outputId": "0367b474-1a40-420e-8ba3-f24b42820f3f"
      },
      "outputs": [
        {
          "data": {
            "text/html": [
              "<div>\n",
              "<style scoped>\n",
              "    .dataframe tbody tr th:only-of-type {\n",
              "        vertical-align: middle;\n",
              "    }\n",
              "\n",
              "    .dataframe tbody tr th {\n",
              "        vertical-align: top;\n",
              "    }\n",
              "\n",
              "    .dataframe thead th {\n",
              "        text-align: right;\n",
              "    }\n",
              "</style>\n",
              "<table border=\"1\" class=\"dataframe\">\n",
              "  <thead>\n",
              "    <tr style=\"text-align: right;\">\n",
              "      <th></th>\n",
              "      <th>state</th>\n",
              "      <th>Colorado</th>\n",
              "      <th>Ohio</th>\n",
              "    </tr>\n",
              "    <tr>\n",
              "      <th>number</th>\n",
              "      <th>side</th>\n",
              "      <th></th>\n",
              "      <th></th>\n",
              "    </tr>\n",
              "  </thead>\n",
              "  <tbody>\n",
              "    <tr>\n",
              "      <th rowspan=\"2\" valign=\"top\">one</th>\n",
              "      <th>left</th>\n",
              "      <td>3</td>\n",
              "      <td>0</td>\n",
              "    </tr>\n",
              "    <tr>\n",
              "      <th>right</th>\n",
              "      <td>8</td>\n",
              "      <td>5</td>\n",
              "    </tr>\n",
              "    <tr>\n",
              "      <th rowspan=\"2\" valign=\"top\">two</th>\n",
              "      <th>left</th>\n",
              "      <td>4</td>\n",
              "      <td>1</td>\n",
              "    </tr>\n",
              "    <tr>\n",
              "      <th>right</th>\n",
              "      <td>9</td>\n",
              "      <td>6</td>\n",
              "    </tr>\n",
              "    <tr>\n",
              "      <th rowspan=\"2\" valign=\"top\">three</th>\n",
              "      <th>left</th>\n",
              "      <td>5</td>\n",
              "      <td>2</td>\n",
              "    </tr>\n",
              "    <tr>\n",
              "      <th>right</th>\n",
              "      <td>10</td>\n",
              "      <td>7</td>\n",
              "    </tr>\n",
              "  </tbody>\n",
              "</table>\n",
              "</div>"
            ],
            "text/plain": [
              "state         Colorado  Ohio\n",
              "number side                 \n",
              "one    left          3     0\n",
              "       right         8     5\n",
              "two    left          4     1\n",
              "       right         9     6\n",
              "three  left          5     2\n",
              "       right        10     7"
            ]
          },
          "execution_count": 41,
          "metadata": {},
          "output_type": "execute_result"
        }
      ],
      "source": [
        "df.unstack(level=\"state\").stack(level=\"side\")"
      ]
    },
    {
      "cell_type": "markdown",
      "metadata": {
        "id": "TdRx8fhfIEpP"
      },
      "source": [
        "**테이블 데이텃세에서 긴 모양 데이터프레임 생성**"
      ]
    },
    {
      "cell_type": "markdown",
      "metadata": {
        "id": "XVfINvVIIEpQ"
      },
      "source": [
        "예제: 거시경제 데이터셋 활용"
      ]
    },
    {
      "cell_type": "markdown",
      "metadata": {
        "id": "biUgyMf-IEpQ"
      },
      "source": [
        "- 데이터셋 다운로드"
      ]
    },
    {
      "cell_type": "code",
      "execution_count": null,
      "metadata": {
        "id": "RuFd91nvIEpQ"
      },
      "outputs": [],
      "source": [
        "base_url = \"https://raw.githubusercontent.com/codingalzi/datapy/master/jupyter-book/examples/\"\n",
        "file = \"macrodata.csv\"\n",
        "\n",
        "data = pd.read_csv(base_url + file)"
      ]
    },
    {
      "cell_type": "markdown",
      "metadata": {
        "id": "Uit_el3HIEpQ"
      },
      "source": [
        "1959년부터 2009년까지 총 203개의 분기<font size='2'>quarter</font>별 데이터 샘플 포함"
      ]
    },
    {
      "cell_type": "code",
      "execution_count": null,
      "metadata": {
        "id": "tXmvrH0DIEpQ",
        "outputId": "15264c90-17a8-46d1-e426-0bfac5f8dfbd"
      },
      "outputs": [
        {
          "data": {
            "text/plain": [
              "(203, 14)"
            ]
          },
          "execution_count": 43,
          "metadata": {},
          "output_type": "execute_result"
        }
      ],
      "source": [
        "data.shape"
      ]
    },
    {
      "cell_type": "markdown",
      "metadata": {
        "id": "xk6iW4_1IEpQ"
      },
      "source": [
        "- `head()` 메서드: 처음 5행 확인. 열 라벨도 확인 가능"
      ]
    },
    {
      "cell_type": "code",
      "execution_count": null,
      "metadata": {
        "id": "BNTd3MEpIEpQ",
        "outputId": "0e7191f3-1168-499c-a591-34bd1652d7f5"
      },
      "outputs": [
        {
          "data": {
            "text/html": [
              "<div>\n",
              "<style scoped>\n",
              "    .dataframe tbody tr th:only-of-type {\n",
              "        vertical-align: middle;\n",
              "    }\n",
              "\n",
              "    .dataframe tbody tr th {\n",
              "        vertical-align: top;\n",
              "    }\n",
              "\n",
              "    .dataframe thead th {\n",
              "        text-align: right;\n",
              "    }\n",
              "</style>\n",
              "<table border=\"1\" class=\"dataframe\">\n",
              "  <thead>\n",
              "    <tr style=\"text-align: right;\">\n",
              "      <th></th>\n",
              "      <th>year</th>\n",
              "      <th>quarter</th>\n",
              "      <th>realgdp</th>\n",
              "      <th>realcons</th>\n",
              "      <th>realinv</th>\n",
              "      <th>realgovt</th>\n",
              "      <th>realdpi</th>\n",
              "      <th>cpi</th>\n",
              "      <th>m1</th>\n",
              "      <th>tbilrate</th>\n",
              "      <th>unemp</th>\n",
              "      <th>pop</th>\n",
              "      <th>infl</th>\n",
              "      <th>realint</th>\n",
              "    </tr>\n",
              "  </thead>\n",
              "  <tbody>\n",
              "    <tr>\n",
              "      <th>0</th>\n",
              "      <td>1959.0</td>\n",
              "      <td>1.0</td>\n",
              "      <td>2710.349</td>\n",
              "      <td>1707.4</td>\n",
              "      <td>286.898</td>\n",
              "      <td>470.045</td>\n",
              "      <td>1886.9</td>\n",
              "      <td>28.98</td>\n",
              "      <td>139.7</td>\n",
              "      <td>2.82</td>\n",
              "      <td>5.8</td>\n",
              "      <td>177.146</td>\n",
              "      <td>0.00</td>\n",
              "      <td>0.00</td>\n",
              "    </tr>\n",
              "    <tr>\n",
              "      <th>1</th>\n",
              "      <td>1959.0</td>\n",
              "      <td>2.0</td>\n",
              "      <td>2778.801</td>\n",
              "      <td>1733.7</td>\n",
              "      <td>310.859</td>\n",
              "      <td>481.301</td>\n",
              "      <td>1919.7</td>\n",
              "      <td>29.15</td>\n",
              "      <td>141.7</td>\n",
              "      <td>3.08</td>\n",
              "      <td>5.1</td>\n",
              "      <td>177.830</td>\n",
              "      <td>2.34</td>\n",
              "      <td>0.74</td>\n",
              "    </tr>\n",
              "    <tr>\n",
              "      <th>2</th>\n",
              "      <td>1959.0</td>\n",
              "      <td>3.0</td>\n",
              "      <td>2775.488</td>\n",
              "      <td>1751.8</td>\n",
              "      <td>289.226</td>\n",
              "      <td>491.260</td>\n",
              "      <td>1916.4</td>\n",
              "      <td>29.35</td>\n",
              "      <td>140.5</td>\n",
              "      <td>3.82</td>\n",
              "      <td>5.3</td>\n",
              "      <td>178.657</td>\n",
              "      <td>2.74</td>\n",
              "      <td>1.09</td>\n",
              "    </tr>\n",
              "    <tr>\n",
              "      <th>3</th>\n",
              "      <td>1959.0</td>\n",
              "      <td>4.0</td>\n",
              "      <td>2785.204</td>\n",
              "      <td>1753.7</td>\n",
              "      <td>299.356</td>\n",
              "      <td>484.052</td>\n",
              "      <td>1931.3</td>\n",
              "      <td>29.37</td>\n",
              "      <td>140.0</td>\n",
              "      <td>4.33</td>\n",
              "      <td>5.6</td>\n",
              "      <td>179.386</td>\n",
              "      <td>0.27</td>\n",
              "      <td>4.06</td>\n",
              "    </tr>\n",
              "    <tr>\n",
              "      <th>4</th>\n",
              "      <td>1960.0</td>\n",
              "      <td>1.0</td>\n",
              "      <td>2847.699</td>\n",
              "      <td>1770.5</td>\n",
              "      <td>331.722</td>\n",
              "      <td>462.199</td>\n",
              "      <td>1955.5</td>\n",
              "      <td>29.54</td>\n",
              "      <td>139.6</td>\n",
              "      <td>3.50</td>\n",
              "      <td>5.2</td>\n",
              "      <td>180.007</td>\n",
              "      <td>2.31</td>\n",
              "      <td>1.19</td>\n",
              "    </tr>\n",
              "  </tbody>\n",
              "</table>\n",
              "</div>"
            ],
            "text/plain": [
              "     year  quarter   realgdp  realcons  realinv  realgovt  realdpi    cpi  \\\n",
              "0  1959.0      1.0  2710.349    1707.4  286.898   470.045   1886.9  28.98   \n",
              "1  1959.0      2.0  2778.801    1733.7  310.859   481.301   1919.7  29.15   \n",
              "2  1959.0      3.0  2775.488    1751.8  289.226   491.260   1916.4  29.35   \n",
              "3  1959.0      4.0  2785.204    1753.7  299.356   484.052   1931.3  29.37   \n",
              "4  1960.0      1.0  2847.699    1770.5  331.722   462.199   1955.5  29.54   \n",
              "\n",
              "      m1  tbilrate  unemp      pop  infl  realint  \n",
              "0  139.7      2.82    5.8  177.146  0.00     0.00  \n",
              "1  141.7      3.08    5.1  177.830  2.34     0.74  \n",
              "2  140.5      3.82    5.3  178.657  2.74     1.09  \n",
              "3  140.0      4.33    5.6  179.386  0.27     4.06  \n",
              "4  139.6      3.50    5.2  180.007  2.31     1.19  "
            ]
          },
          "execution_count": 44,
          "metadata": {},
          "output_type": "execute_result"
        }
      ],
      "source": [
        "data.head()"
      ]
    },
    {
      "cell_type": "markdown",
      "metadata": {
        "id": "TrDSHC63IEpQ"
      },
      "source": [
        "열 라벨은 거시경제 지표 14개"
      ]
    },
    {
      "cell_type": "code",
      "execution_count": null,
      "metadata": {
        "id": "v-fjokQMIEpQ",
        "outputId": "477652d5-4971-4fc8-9715-89cfcef06fc1"
      },
      "outputs": [
        {
          "data": {
            "text/plain": [
              "Index(['year', 'quarter', 'realgdp', 'realcons', 'realinv', 'realgovt',\n",
              "       'realdpi', 'cpi', 'm1', 'tbilrate', 'unemp', 'pop', 'infl', 'realint'],\n",
              "      dtype='object')"
            ]
          },
          "execution_count": 45,
          "metadata": {},
          "output_type": "execute_result"
        }
      ],
      "source": [
        "data.columns"
      ]
    },
    {
      "cell_type": "markdown",
      "metadata": {
        "id": "cx5oZWHRIEpR"
      },
      "source": [
        "열 일부 데이터만 사용"
      ]
    },
    {
      "cell_type": "code",
      "execution_count": null,
      "metadata": {
        "id": "Cq2usz0qIEpR",
        "outputId": "6e0e029e-d29d-4bba-b0e3-d0c6edf2891e"
      },
      "outputs": [
        {
          "data": {
            "text/html": [
              "<div>\n",
              "<style scoped>\n",
              "    .dataframe tbody tr th:only-of-type {\n",
              "        vertical-align: middle;\n",
              "    }\n",
              "\n",
              "    .dataframe tbody tr th {\n",
              "        vertical-align: top;\n",
              "    }\n",
              "\n",
              "    .dataframe thead th {\n",
              "        text-align: right;\n",
              "    }\n",
              "</style>\n",
              "<table border=\"1\" class=\"dataframe\">\n",
              "  <thead>\n",
              "    <tr style=\"text-align: right;\">\n",
              "      <th></th>\n",
              "      <th>year</th>\n",
              "      <th>quarter</th>\n",
              "      <th>realgdp</th>\n",
              "      <th>infl</th>\n",
              "      <th>unemp</th>\n",
              "    </tr>\n",
              "  </thead>\n",
              "  <tbody>\n",
              "    <tr>\n",
              "      <th>0</th>\n",
              "      <td>1959.0</td>\n",
              "      <td>1.0</td>\n",
              "      <td>2710.349</td>\n",
              "      <td>0.00</td>\n",
              "      <td>5.8</td>\n",
              "    </tr>\n",
              "    <tr>\n",
              "      <th>1</th>\n",
              "      <td>1959.0</td>\n",
              "      <td>2.0</td>\n",
              "      <td>2778.801</td>\n",
              "      <td>2.34</td>\n",
              "      <td>5.1</td>\n",
              "    </tr>\n",
              "    <tr>\n",
              "      <th>2</th>\n",
              "      <td>1959.0</td>\n",
              "      <td>3.0</td>\n",
              "      <td>2775.488</td>\n",
              "      <td>2.74</td>\n",
              "      <td>5.3</td>\n",
              "    </tr>\n",
              "    <tr>\n",
              "      <th>3</th>\n",
              "      <td>1959.0</td>\n",
              "      <td>4.0</td>\n",
              "      <td>2785.204</td>\n",
              "      <td>0.27</td>\n",
              "      <td>5.6</td>\n",
              "    </tr>\n",
              "    <tr>\n",
              "      <th>4</th>\n",
              "      <td>1960.0</td>\n",
              "      <td>1.0</td>\n",
              "      <td>2847.699</td>\n",
              "      <td>2.31</td>\n",
              "      <td>5.2</td>\n",
              "    </tr>\n",
              "  </tbody>\n",
              "</table>\n",
              "</div>"
            ],
            "text/plain": [
              "     year  quarter   realgdp  infl  unemp\n",
              "0  1959.0      1.0  2710.349  0.00    5.8\n",
              "1  1959.0      2.0  2778.801  2.34    5.1\n",
              "2  1959.0      3.0  2775.488  2.74    5.3\n",
              "3  1959.0      4.0  2785.204  0.27    5.6\n",
              "4  1960.0      1.0  2847.699  2.31    5.2"
            ]
          },
          "execution_count": 46,
          "metadata": {},
          "output_type": "execute_result"
        }
      ],
      "source": [
        "data = data.loc[:, [\"year\", \"quarter\", \"realgdp\", \"infl\", \"unemp\"]]\n",
        "data.head()"
      ]
    },
    {
      "cell_type": "markdown",
      "metadata": {
        "id": "DZw_tsEFIEpR"
      },
      "source": [
        "- 기간 인덱스: `pd.PeriodIndex` 객체 활용. 년도(`year`)와 분기(`quarter`) 결합\n",
        "\n",
        "**주의사항**: `pop()` 메서드를 사용하기에 `data` 데이터프레임에서 해당 열 삭제됨"
      ]
    },
    {
      "cell_type": "code",
      "execution_count": null,
      "metadata": {
        "id": "4cQxvcmbIEpR",
        "outputId": "6e0d57a0-fcae-4719-fbeb-19d1f7a80337"
      },
      "outputs": [
        {
          "data": {
            "text/plain": [
              "PeriodIndex(['1959Q1', '1959Q2', '1959Q3', '1959Q4', '1960Q1', '1960Q2',\n",
              "             '1960Q3', '1960Q4', '1961Q1', '1961Q2',\n",
              "             ...\n",
              "             '2007Q2', '2007Q3', '2007Q4', '2008Q1', '2008Q2', '2008Q3',\n",
              "             '2008Q4', '2009Q1', '2009Q2', '2009Q3'],\n",
              "            dtype='period[Q-DEC]', name='date', length=203)"
            ]
          },
          "execution_count": 47,
          "metadata": {},
          "output_type": "execute_result"
        }
      ],
      "source": [
        "periods = pd.PeriodIndex(year=data.pop(\"year\"),       # pop()\n",
        "                         quarter=data.pop(\"quarter\"), # pop()\n",
        "                         name=\"date\")                 # 인덱스 이름\n",
        "periods"
      ]
    },
    {
      "cell_type": "markdown",
      "metadata": {
        "id": "wyIPl4dzIEpR"
      },
      "source": [
        "- `to_timestamp(\"D\")`: 일 단위의 `DatetimeIndex`로 변환"
      ]
    },
    {
      "cell_type": "code",
      "execution_count": null,
      "metadata": {
        "id": "LNTtxeppIEpR",
        "outputId": "96df7132-841a-4cf9-e762-0eefb306bce6"
      },
      "outputs": [
        {
          "data": {
            "text/plain": [
              "DatetimeIndex(['1959-01-01', '1959-04-01', '1959-07-01', '1959-10-01',\n",
              "               '1960-01-01', '1960-04-01', '1960-07-01', '1960-10-01',\n",
              "               '1961-01-01', '1961-04-01',\n",
              "               ...\n",
              "               '2007-04-01', '2007-07-01', '2007-10-01', '2008-01-01',\n",
              "               '2008-04-01', '2008-07-01', '2008-10-01', '2009-01-01',\n",
              "               '2009-04-01', '2009-07-01'],\n",
              "              dtype='datetime64[ns]', name='date', length=203, freq='QS-OCT')"
            ]
          },
          "execution_count": 48,
          "metadata": {},
          "output_type": "execute_result"
        }
      ],
      "source": [
        "data.index = periods.to_timestamp(\"D\")\n",
        "data.index"
      ]
    },
    {
      "cell_type": "code",
      "execution_count": null,
      "metadata": {
        "id": "-Ywie0L-IEpR",
        "outputId": "87cd2042-42eb-4e25-9184-4547338fa69f"
      },
      "outputs": [
        {
          "data": {
            "text/html": [
              "<div>\n",
              "<style scoped>\n",
              "    .dataframe tbody tr th:only-of-type {\n",
              "        vertical-align: middle;\n",
              "    }\n",
              "\n",
              "    .dataframe tbody tr th {\n",
              "        vertical-align: top;\n",
              "    }\n",
              "\n",
              "    .dataframe thead th {\n",
              "        text-align: right;\n",
              "    }\n",
              "</style>\n",
              "<table border=\"1\" class=\"dataframe\">\n",
              "  <thead>\n",
              "    <tr style=\"text-align: right;\">\n",
              "      <th></th>\n",
              "      <th>realgdp</th>\n",
              "      <th>infl</th>\n",
              "      <th>unemp</th>\n",
              "    </tr>\n",
              "    <tr>\n",
              "      <th>date</th>\n",
              "      <th></th>\n",
              "      <th></th>\n",
              "      <th></th>\n",
              "    </tr>\n",
              "  </thead>\n",
              "  <tbody>\n",
              "    <tr>\n",
              "      <th>1959-01-01</th>\n",
              "      <td>2710.349</td>\n",
              "      <td>0.00</td>\n",
              "      <td>5.8</td>\n",
              "    </tr>\n",
              "    <tr>\n",
              "      <th>1959-04-01</th>\n",
              "      <td>2778.801</td>\n",
              "      <td>2.34</td>\n",
              "      <td>5.1</td>\n",
              "    </tr>\n",
              "    <tr>\n",
              "      <th>1959-07-01</th>\n",
              "      <td>2775.488</td>\n",
              "      <td>2.74</td>\n",
              "      <td>5.3</td>\n",
              "    </tr>\n",
              "    <tr>\n",
              "      <th>1959-10-01</th>\n",
              "      <td>2785.204</td>\n",
              "      <td>0.27</td>\n",
              "      <td>5.6</td>\n",
              "    </tr>\n",
              "    <tr>\n",
              "      <th>1960-01-01</th>\n",
              "      <td>2847.699</td>\n",
              "      <td>2.31</td>\n",
              "      <td>5.2</td>\n",
              "    </tr>\n",
              "  </tbody>\n",
              "</table>\n",
              "</div>"
            ],
            "text/plain": [
              "             realgdp  infl  unemp\n",
              "date                             \n",
              "1959-01-01  2710.349  0.00    5.8\n",
              "1959-04-01  2778.801  2.34    5.1\n",
              "1959-07-01  2775.488  2.74    5.3\n",
              "1959-10-01  2785.204  0.27    5.6\n",
              "1960-01-01  2847.699  2.31    5.2"
            ]
          },
          "execution_count": 49,
          "metadata": {},
          "output_type": "execute_result"
        }
      ],
      "source": [
        "data.head()"
      ]
    },
    {
      "cell_type": "markdown",
      "metadata": {
        "id": "5Q3VJU2qIEpR"
      },
      "source": [
        "- 리인덱싱"
      ]
    },
    {
      "cell_type": "code",
      "execution_count": null,
      "metadata": {
        "id": "84pkirr3IEpR"
      },
      "outputs": [],
      "source": [
        "data = data.reindex(columns=[\"realgdp\", \"infl\", \"unemp\"])"
      ]
    },
    {
      "cell_type": "markdown",
      "metadata": {
        "id": "Ilya5MavIEpR"
      },
      "source": [
        "열 인덱스에 이름 지정"
      ]
    },
    {
      "cell_type": "code",
      "execution_count": null,
      "metadata": {
        "id": "TCNu_vDYIEpS",
        "outputId": "06c84fd7-8a18-4bca-9b4e-8cd513604fc9"
      },
      "outputs": [
        {
          "data": {
            "text/html": [
              "<div>\n",
              "<style scoped>\n",
              "    .dataframe tbody tr th:only-of-type {\n",
              "        vertical-align: middle;\n",
              "    }\n",
              "\n",
              "    .dataframe tbody tr th {\n",
              "        vertical-align: top;\n",
              "    }\n",
              "\n",
              "    .dataframe thead th {\n",
              "        text-align: right;\n",
              "    }\n",
              "</style>\n",
              "<table border=\"1\" class=\"dataframe\">\n",
              "  <thead>\n",
              "    <tr style=\"text-align: right;\">\n",
              "      <th>item</th>\n",
              "      <th>realgdp</th>\n",
              "      <th>infl</th>\n",
              "      <th>unemp</th>\n",
              "    </tr>\n",
              "    <tr>\n",
              "      <th>date</th>\n",
              "      <th></th>\n",
              "      <th></th>\n",
              "      <th></th>\n",
              "    </tr>\n",
              "  </thead>\n",
              "  <tbody>\n",
              "    <tr>\n",
              "      <th>1959-01-01</th>\n",
              "      <td>2710.349</td>\n",
              "      <td>0.00</td>\n",
              "      <td>5.8</td>\n",
              "    </tr>\n",
              "    <tr>\n",
              "      <th>1959-04-01</th>\n",
              "      <td>2778.801</td>\n",
              "      <td>2.34</td>\n",
              "      <td>5.1</td>\n",
              "    </tr>\n",
              "    <tr>\n",
              "      <th>1959-07-01</th>\n",
              "      <td>2775.488</td>\n",
              "      <td>2.74</td>\n",
              "      <td>5.3</td>\n",
              "    </tr>\n",
              "    <tr>\n",
              "      <th>1959-10-01</th>\n",
              "      <td>2785.204</td>\n",
              "      <td>0.27</td>\n",
              "      <td>5.6</td>\n",
              "    </tr>\n",
              "    <tr>\n",
              "      <th>1960-01-01</th>\n",
              "      <td>2847.699</td>\n",
              "      <td>2.31</td>\n",
              "      <td>5.2</td>\n",
              "    </tr>\n",
              "  </tbody>\n",
              "</table>\n",
              "</div>"
            ],
            "text/plain": [
              "item         realgdp  infl  unemp\n",
              "date                             \n",
              "1959-01-01  2710.349  0.00    5.8\n",
              "1959-04-01  2778.801  2.34    5.1\n",
              "1959-07-01  2775.488  2.74    5.3\n",
              "1959-10-01  2785.204  0.27    5.6\n",
              "1960-01-01  2847.699  2.31    5.2"
            ]
          },
          "execution_count": 51,
          "metadata": {},
          "output_type": "execute_result"
        }
      ],
      "source": [
        "data.columns.name = \"item\"\n",
        "\n",
        "data.head()"
      ]
    },
    {
      "cell_type": "markdown",
      "metadata": {
        "id": "triwM-jzIEpS"
      },
      "source": [
        "항목 재배열: 스택/언스택 활용"
      ]
    },
    {
      "cell_type": "code",
      "execution_count": null,
      "metadata": {
        "id": "piSZPUjLIEpS",
        "outputId": "e2661311-15b7-4c50-9e6a-b827306aa83f"
      },
      "outputs": [
        {
          "data": {
            "text/plain": [
              "date        item   \n",
              "1959-01-01  realgdp     2710.349\n",
              "            infl           0.000\n",
              "            unemp          5.800\n",
              "1959-04-01  realgdp     2778.801\n",
              "            infl           2.340\n",
              "                         ...    \n",
              "2009-04-01  infl           3.370\n",
              "            unemp          9.200\n",
              "2009-07-01  realgdp    12990.341\n",
              "            infl           3.560\n",
              "            unemp          9.600\n",
              "Length: 609, dtype: float64"
            ]
          },
          "execution_count": 52,
          "metadata": {},
          "output_type": "execute_result"
        }
      ],
      "source": [
        "data.stack()"
      ]
    },
    {
      "cell_type": "code",
      "execution_count": null,
      "metadata": {
        "id": "Qp-UWbpTIEpS",
        "outputId": "fc6b2859-2096-4252-a07d-de3da7d3d255"
      },
      "outputs": [
        {
          "data": {
            "text/html": [
              "<div>\n",
              "<style scoped>\n",
              "    .dataframe tbody tr th:only-of-type {\n",
              "        vertical-align: middle;\n",
              "    }\n",
              "\n",
              "    .dataframe tbody tr th {\n",
              "        vertical-align: top;\n",
              "    }\n",
              "\n",
              "    .dataframe thead th {\n",
              "        text-align: right;\n",
              "    }\n",
              "</style>\n",
              "<table border=\"1\" class=\"dataframe\">\n",
              "  <thead>\n",
              "    <tr style=\"text-align: right;\">\n",
              "      <th></th>\n",
              "      <th>date</th>\n",
              "      <th>item</th>\n",
              "      <th>0</th>\n",
              "    </tr>\n",
              "  </thead>\n",
              "  <tbody>\n",
              "    <tr>\n",
              "      <th>0</th>\n",
              "      <td>1959-01-01</td>\n",
              "      <td>realgdp</td>\n",
              "      <td>2710.349</td>\n",
              "    </tr>\n",
              "    <tr>\n",
              "      <th>1</th>\n",
              "      <td>1959-01-01</td>\n",
              "      <td>infl</td>\n",
              "      <td>0.000</td>\n",
              "    </tr>\n",
              "    <tr>\n",
              "      <th>2</th>\n",
              "      <td>1959-01-01</td>\n",
              "      <td>unemp</td>\n",
              "      <td>5.800</td>\n",
              "    </tr>\n",
              "    <tr>\n",
              "      <th>3</th>\n",
              "      <td>1959-04-01</td>\n",
              "      <td>realgdp</td>\n",
              "      <td>2778.801</td>\n",
              "    </tr>\n",
              "    <tr>\n",
              "      <th>4</th>\n",
              "      <td>1959-04-01</td>\n",
              "      <td>infl</td>\n",
              "      <td>2.340</td>\n",
              "    </tr>\n",
              "    <tr>\n",
              "      <th>...</th>\n",
              "      <td>...</td>\n",
              "      <td>...</td>\n",
              "      <td>...</td>\n",
              "    </tr>\n",
              "    <tr>\n",
              "      <th>604</th>\n",
              "      <td>2009-04-01</td>\n",
              "      <td>infl</td>\n",
              "      <td>3.370</td>\n",
              "    </tr>\n",
              "    <tr>\n",
              "      <th>605</th>\n",
              "      <td>2009-04-01</td>\n",
              "      <td>unemp</td>\n",
              "      <td>9.200</td>\n",
              "    </tr>\n",
              "    <tr>\n",
              "      <th>606</th>\n",
              "      <td>2009-07-01</td>\n",
              "      <td>realgdp</td>\n",
              "      <td>12990.341</td>\n",
              "    </tr>\n",
              "    <tr>\n",
              "      <th>607</th>\n",
              "      <td>2009-07-01</td>\n",
              "      <td>infl</td>\n",
              "      <td>3.560</td>\n",
              "    </tr>\n",
              "    <tr>\n",
              "      <th>608</th>\n",
              "      <td>2009-07-01</td>\n",
              "      <td>unemp</td>\n",
              "      <td>9.600</td>\n",
              "    </tr>\n",
              "  </tbody>\n",
              "</table>\n",
              "<p>609 rows × 3 columns</p>\n",
              "</div>"
            ],
            "text/plain": [
              "          date     item          0\n",
              "0   1959-01-01  realgdp   2710.349\n",
              "1   1959-01-01     infl      0.000\n",
              "2   1959-01-01    unemp      5.800\n",
              "3   1959-04-01  realgdp   2778.801\n",
              "4   1959-04-01     infl      2.340\n",
              "..         ...      ...        ...\n",
              "604 2009-04-01     infl      3.370\n",
              "605 2009-04-01    unemp      9.200\n",
              "606 2009-07-01  realgdp  12990.341\n",
              "607 2009-07-01     infl      3.560\n",
              "608 2009-07-01    unemp      9.600\n",
              "\n",
              "[609 rows x 3 columns]"
            ]
          },
          "execution_count": 53,
          "metadata": {},
          "output_type": "execute_result"
        }
      ],
      "source": [
        "data.stack().reset_index()"
      ]
    },
    {
      "cell_type": "code",
      "execution_count": null,
      "metadata": {
        "id": "hhoX5ubcIEpS"
      },
      "outputs": [],
      "source": [
        "long_data = (data.stack()\n",
        "             .reset_index()\n",
        "             .rename(columns={0: \"value\"}))"
      ]
    },
    {
      "cell_type": "code",
      "execution_count": null,
      "metadata": {
        "id": "5J3k-dIpIEpS",
        "outputId": "95f19eae-db98-4d28-9dfd-d5038df3cc22"
      },
      "outputs": [
        {
          "data": {
            "text/html": [
              "<div>\n",
              "<style scoped>\n",
              "    .dataframe tbody tr th:only-of-type {\n",
              "        vertical-align: middle;\n",
              "    }\n",
              "\n",
              "    .dataframe tbody tr th {\n",
              "        vertical-align: top;\n",
              "    }\n",
              "\n",
              "    .dataframe thead th {\n",
              "        text-align: right;\n",
              "    }\n",
              "</style>\n",
              "<table border=\"1\" class=\"dataframe\">\n",
              "  <thead>\n",
              "    <tr style=\"text-align: right;\">\n",
              "      <th></th>\n",
              "      <th>date</th>\n",
              "      <th>item</th>\n",
              "      <th>value</th>\n",
              "    </tr>\n",
              "  </thead>\n",
              "  <tbody>\n",
              "    <tr>\n",
              "      <th>0</th>\n",
              "      <td>1959-01-01</td>\n",
              "      <td>realgdp</td>\n",
              "      <td>2710.349</td>\n",
              "    </tr>\n",
              "    <tr>\n",
              "      <th>1</th>\n",
              "      <td>1959-01-01</td>\n",
              "      <td>infl</td>\n",
              "      <td>0.000</td>\n",
              "    </tr>\n",
              "    <tr>\n",
              "      <th>2</th>\n",
              "      <td>1959-01-01</td>\n",
              "      <td>unemp</td>\n",
              "      <td>5.800</td>\n",
              "    </tr>\n",
              "    <tr>\n",
              "      <th>3</th>\n",
              "      <td>1959-04-01</td>\n",
              "      <td>realgdp</td>\n",
              "      <td>2778.801</td>\n",
              "    </tr>\n",
              "    <tr>\n",
              "      <th>4</th>\n",
              "      <td>1959-04-01</td>\n",
              "      <td>infl</td>\n",
              "      <td>2.340</td>\n",
              "    </tr>\n",
              "    <tr>\n",
              "      <th>5</th>\n",
              "      <td>1959-04-01</td>\n",
              "      <td>unemp</td>\n",
              "      <td>5.100</td>\n",
              "    </tr>\n",
              "    <tr>\n",
              "      <th>6</th>\n",
              "      <td>1959-07-01</td>\n",
              "      <td>realgdp</td>\n",
              "      <td>2775.488</td>\n",
              "    </tr>\n",
              "    <tr>\n",
              "      <th>7</th>\n",
              "      <td>1959-07-01</td>\n",
              "      <td>infl</td>\n",
              "      <td>2.740</td>\n",
              "    </tr>\n",
              "    <tr>\n",
              "      <th>8</th>\n",
              "      <td>1959-07-01</td>\n",
              "      <td>unemp</td>\n",
              "      <td>5.300</td>\n",
              "    </tr>\n",
              "    <tr>\n",
              "      <th>9</th>\n",
              "      <td>1959-10-01</td>\n",
              "      <td>realgdp</td>\n",
              "      <td>2785.204</td>\n",
              "    </tr>\n",
              "  </tbody>\n",
              "</table>\n",
              "</div>"
            ],
            "text/plain": [
              "        date     item     value\n",
              "0 1959-01-01  realgdp  2710.349\n",
              "1 1959-01-01     infl     0.000\n",
              "2 1959-01-01    unemp     5.800\n",
              "3 1959-04-01  realgdp  2778.801\n",
              "4 1959-04-01     infl     2.340\n",
              "5 1959-04-01    unemp     5.100\n",
              "6 1959-07-01  realgdp  2775.488\n",
              "7 1959-07-01     infl     2.740\n",
              "8 1959-07-01    unemp     5.300\n",
              "9 1959-10-01  realgdp  2785.204"
            ]
          },
          "execution_count": 55,
          "metadata": {},
          "output_type": "execute_result"
        }
      ],
      "source": [
        "long_data[:10]"
      ]
    },
    {
      "cell_type": "markdown",
      "metadata": {
        "id": "eHoAfh6NIEpS"
      },
      "source": [
        "### 피버팅"
      ]
    },
    {
      "cell_type": "markdown",
      "metadata": {
        "id": "jdsKeiUjIEpS"
      },
      "source": [
        "긴 모양 데이터프레임을 넓은 모양 데이터프레임으로 변환하는 과정을 살펴 본다."
      ]
    },
    {
      "cell_type": "markdown",
      "metadata": {
        "id": "Aj5UKpUQIEpS"
      },
      "source": [
        "**한 개의 열로 구성된 갑을 사용하는 피버팅**"
      ]
    },
    {
      "cell_type": "code",
      "execution_count": null,
      "metadata": {
        "id": "evT9N3X6IEpS",
        "outputId": "014f1576-24fb-4f0b-800d-95cc1e409a82"
      },
      "outputs": [
        {
          "data": {
            "text/html": [
              "<div>\n",
              "<style scoped>\n",
              "    .dataframe tbody tr th:only-of-type {\n",
              "        vertical-align: middle;\n",
              "    }\n",
              "\n",
              "    .dataframe tbody tr th {\n",
              "        vertical-align: top;\n",
              "    }\n",
              "\n",
              "    .dataframe thead th {\n",
              "        text-align: right;\n",
              "    }\n",
              "</style>\n",
              "<table border=\"1\" class=\"dataframe\">\n",
              "  <thead>\n",
              "    <tr style=\"text-align: right;\">\n",
              "      <th>item</th>\n",
              "      <th>infl</th>\n",
              "      <th>realgdp</th>\n",
              "      <th>unemp</th>\n",
              "    </tr>\n",
              "    <tr>\n",
              "      <th>date</th>\n",
              "      <th></th>\n",
              "      <th></th>\n",
              "      <th></th>\n",
              "    </tr>\n",
              "  </thead>\n",
              "  <tbody>\n",
              "    <tr>\n",
              "      <th>1959-01-01</th>\n",
              "      <td>0.00</td>\n",
              "      <td>2710.349</td>\n",
              "      <td>5.8</td>\n",
              "    </tr>\n",
              "    <tr>\n",
              "      <th>1959-04-01</th>\n",
              "      <td>2.34</td>\n",
              "      <td>2778.801</td>\n",
              "      <td>5.1</td>\n",
              "    </tr>\n",
              "    <tr>\n",
              "      <th>1959-07-01</th>\n",
              "      <td>2.74</td>\n",
              "      <td>2775.488</td>\n",
              "      <td>5.3</td>\n",
              "    </tr>\n",
              "    <tr>\n",
              "      <th>1959-10-01</th>\n",
              "      <td>0.27</td>\n",
              "      <td>2785.204</td>\n",
              "      <td>5.6</td>\n",
              "    </tr>\n",
              "    <tr>\n",
              "      <th>1960-01-01</th>\n",
              "      <td>2.31</td>\n",
              "      <td>2847.699</td>\n",
              "      <td>5.2</td>\n",
              "    </tr>\n",
              "  </tbody>\n",
              "</table>\n",
              "</div>"
            ],
            "text/plain": [
              "item        infl   realgdp  unemp\n",
              "date                             \n",
              "1959-01-01  0.00  2710.349    5.8\n",
              "1959-04-01  2.34  2778.801    5.1\n",
              "1959-07-01  2.74  2775.488    5.3\n",
              "1959-10-01  0.27  2785.204    5.6\n",
              "1960-01-01  2.31  2847.699    5.2"
            ]
          },
          "execution_count": 56,
          "metadata": {},
          "output_type": "execute_result"
        }
      ],
      "source": [
        "pivoted = long_data.pivot(index=\"date\", columns=\"item\", values=\"value\")\n",
        "\n",
        "pivoted.head()"
      ]
    },
    {
      "cell_type": "markdown",
      "metadata": {
        "id": "6alyEc_gIEpT"
      },
      "source": [
        "**여러 개의 열로 구성된 갑을 사용하는 피버팅**"
      ]
    },
    {
      "cell_type": "code",
      "execution_count": null,
      "metadata": {
        "id": "kxsik2qZIEpT",
        "outputId": "de2ef924-891f-48e5-9faa-4ae3185d551e"
      },
      "outputs": [
        {
          "data": {
            "text/html": [
              "<div>\n",
              "<style scoped>\n",
              "    .dataframe tbody tr th:only-of-type {\n",
              "        vertical-align: middle;\n",
              "    }\n",
              "\n",
              "    .dataframe tbody tr th {\n",
              "        vertical-align: top;\n",
              "    }\n",
              "\n",
              "    .dataframe thead th {\n",
              "        text-align: right;\n",
              "    }\n",
              "</style>\n",
              "<table border=\"1\" class=\"dataframe\">\n",
              "  <thead>\n",
              "    <tr style=\"text-align: right;\">\n",
              "      <th></th>\n",
              "      <th>date</th>\n",
              "      <th>item</th>\n",
              "      <th>value</th>\n",
              "      <th>value2</th>\n",
              "    </tr>\n",
              "  </thead>\n",
              "  <tbody>\n",
              "    <tr>\n",
              "      <th>0</th>\n",
              "      <td>1959-01-01</td>\n",
              "      <td>realgdp</td>\n",
              "      <td>2710.349</td>\n",
              "      <td>1.248804</td>\n",
              "    </tr>\n",
              "    <tr>\n",
              "      <th>1</th>\n",
              "      <td>1959-01-01</td>\n",
              "      <td>infl</td>\n",
              "      <td>0.000</td>\n",
              "      <td>0.774191</td>\n",
              "    </tr>\n",
              "    <tr>\n",
              "      <th>2</th>\n",
              "      <td>1959-01-01</td>\n",
              "      <td>unemp</td>\n",
              "      <td>5.800</td>\n",
              "      <td>-0.319657</td>\n",
              "    </tr>\n",
              "    <tr>\n",
              "      <th>3</th>\n",
              "      <td>1959-04-01</td>\n",
              "      <td>realgdp</td>\n",
              "      <td>2778.801</td>\n",
              "      <td>-0.624964</td>\n",
              "    </tr>\n",
              "    <tr>\n",
              "      <th>4</th>\n",
              "      <td>1959-04-01</td>\n",
              "      <td>infl</td>\n",
              "      <td>2.340</td>\n",
              "      <td>1.078814</td>\n",
              "    </tr>\n",
              "    <tr>\n",
              "      <th>5</th>\n",
              "      <td>1959-04-01</td>\n",
              "      <td>unemp</td>\n",
              "      <td>5.100</td>\n",
              "      <td>0.544647</td>\n",
              "    </tr>\n",
              "    <tr>\n",
              "      <th>6</th>\n",
              "      <td>1959-07-01</td>\n",
              "      <td>realgdp</td>\n",
              "      <td>2775.488</td>\n",
              "      <td>0.855588</td>\n",
              "    </tr>\n",
              "    <tr>\n",
              "      <th>7</th>\n",
              "      <td>1959-07-01</td>\n",
              "      <td>infl</td>\n",
              "      <td>2.740</td>\n",
              "      <td>1.343268</td>\n",
              "    </tr>\n",
              "    <tr>\n",
              "      <th>8</th>\n",
              "      <td>1959-07-01</td>\n",
              "      <td>unemp</td>\n",
              "      <td>5.300</td>\n",
              "      <td>-0.267175</td>\n",
              "    </tr>\n",
              "    <tr>\n",
              "      <th>9</th>\n",
              "      <td>1959-10-01</td>\n",
              "      <td>realgdp</td>\n",
              "      <td>2785.204</td>\n",
              "      <td>1.793095</td>\n",
              "    </tr>\n",
              "  </tbody>\n",
              "</table>\n",
              "</div>"
            ],
            "text/plain": [
              "        date     item     value    value2\n",
              "0 1959-01-01  realgdp  2710.349  1.248804\n",
              "1 1959-01-01     infl     0.000  0.774191\n",
              "2 1959-01-01    unemp     5.800 -0.319657\n",
              "3 1959-04-01  realgdp  2778.801 -0.624964\n",
              "4 1959-04-01     infl     2.340  1.078814\n",
              "5 1959-04-01    unemp     5.100  0.544647\n",
              "6 1959-07-01  realgdp  2775.488  0.855588\n",
              "7 1959-07-01     infl     2.740  1.343268\n",
              "8 1959-07-01    unemp     5.300 -0.267175\n",
              "9 1959-10-01  realgdp  2785.204  1.793095"
            ]
          },
          "execution_count": 57,
          "metadata": {},
          "output_type": "execute_result"
        }
      ],
      "source": [
        "long_data[\"value2\"] = np.random.standard_normal(len(long_data))\n",
        "long_data[:10]"
      ]
    },
    {
      "cell_type": "markdown",
      "metadata": {
        "id": "uO_8BYIJIEpT"
      },
      "source": [
        "값으로 사용되는 열 별로 열 인덱스 지정. 따라서 다중 인덱스가 열 인덱스로 사용됨."
      ]
    },
    {
      "cell_type": "code",
      "execution_count": null,
      "metadata": {
        "id": "EoLYnehoIEpT",
        "outputId": "6d8b4f31-205f-4ccb-f6e2-0f89fd17896b"
      },
      "outputs": [
        {
          "data": {
            "text/html": [
              "<div>\n",
              "<style scoped>\n",
              "    .dataframe tbody tr th:only-of-type {\n",
              "        vertical-align: middle;\n",
              "    }\n",
              "\n",
              "    .dataframe tbody tr th {\n",
              "        vertical-align: top;\n",
              "    }\n",
              "\n",
              "    .dataframe thead tr th {\n",
              "        text-align: left;\n",
              "    }\n",
              "\n",
              "    .dataframe thead tr:last-of-type th {\n",
              "        text-align: right;\n",
              "    }\n",
              "</style>\n",
              "<table border=\"1\" class=\"dataframe\">\n",
              "  <thead>\n",
              "    <tr>\n",
              "      <th></th>\n",
              "      <th colspan=\"3\" halign=\"left\">value</th>\n",
              "      <th colspan=\"3\" halign=\"left\">value2</th>\n",
              "    </tr>\n",
              "    <tr>\n",
              "      <th>item</th>\n",
              "      <th>infl</th>\n",
              "      <th>realgdp</th>\n",
              "      <th>unemp</th>\n",
              "      <th>infl</th>\n",
              "      <th>realgdp</th>\n",
              "      <th>unemp</th>\n",
              "    </tr>\n",
              "    <tr>\n",
              "      <th>date</th>\n",
              "      <th></th>\n",
              "      <th></th>\n",
              "      <th></th>\n",
              "      <th></th>\n",
              "      <th></th>\n",
              "      <th></th>\n",
              "    </tr>\n",
              "  </thead>\n",
              "  <tbody>\n",
              "    <tr>\n",
              "      <th>1959-01-01</th>\n",
              "      <td>0.00</td>\n",
              "      <td>2710.349</td>\n",
              "      <td>5.8</td>\n",
              "      <td>0.774191</td>\n",
              "      <td>1.248804</td>\n",
              "      <td>-0.319657</td>\n",
              "    </tr>\n",
              "    <tr>\n",
              "      <th>1959-04-01</th>\n",
              "      <td>2.34</td>\n",
              "      <td>2778.801</td>\n",
              "      <td>5.1</td>\n",
              "      <td>1.078814</td>\n",
              "      <td>-0.624964</td>\n",
              "      <td>0.544647</td>\n",
              "    </tr>\n",
              "    <tr>\n",
              "      <th>1959-07-01</th>\n",
              "      <td>2.74</td>\n",
              "      <td>2775.488</td>\n",
              "      <td>5.3</td>\n",
              "      <td>1.343268</td>\n",
              "      <td>0.855588</td>\n",
              "      <td>-0.267175</td>\n",
              "    </tr>\n",
              "    <tr>\n",
              "      <th>1959-10-01</th>\n",
              "      <td>0.27</td>\n",
              "      <td>2785.204</td>\n",
              "      <td>5.6</td>\n",
              "      <td>-0.652929</td>\n",
              "      <td>1.793095</td>\n",
              "      <td>-1.886837</td>\n",
              "    </tr>\n",
              "    <tr>\n",
              "      <th>1960-01-01</th>\n",
              "      <td>2.31</td>\n",
              "      <td>2847.699</td>\n",
              "      <td>5.2</td>\n",
              "      <td>0.644448</td>\n",
              "      <td>1.059626</td>\n",
              "      <td>-0.007799</td>\n",
              "    </tr>\n",
              "  </tbody>\n",
              "</table>\n",
              "</div>"
            ],
            "text/plain": [
              "           value                    value2                    \n",
              "item        infl   realgdp unemp      infl   realgdp     unemp\n",
              "date                                                          \n",
              "1959-01-01  0.00  2710.349   5.8  0.774191  1.248804 -0.319657\n",
              "1959-04-01  2.34  2778.801   5.1  1.078814 -0.624964  0.544647\n",
              "1959-07-01  2.74  2775.488   5.3  1.343268  0.855588 -0.267175\n",
              "1959-10-01  0.27  2785.204   5.6 -0.652929  1.793095 -1.886837\n",
              "1960-01-01  2.31  2847.699   5.2  0.644448  1.059626 -0.007799"
            ]
          },
          "execution_count": 58,
          "metadata": {},
          "output_type": "execute_result"
        }
      ],
      "source": [
        "pivoted = long_data.pivot(index=\"date\", columns=\"item\")\n",
        "pivoted.head()"
      ]
    },
    {
      "cell_type": "code",
      "execution_count": null,
      "metadata": {
        "id": "_LbkURLnIEpT",
        "outputId": "5fc6ee29-b936-4523-91f5-3bf9c3db5791"
      },
      "outputs": [
        {
          "data": {
            "text/html": [
              "<div>\n",
              "<style scoped>\n",
              "    .dataframe tbody tr th:only-of-type {\n",
              "        vertical-align: middle;\n",
              "    }\n",
              "\n",
              "    .dataframe tbody tr th {\n",
              "        vertical-align: top;\n",
              "    }\n",
              "\n",
              "    .dataframe thead th {\n",
              "        text-align: right;\n",
              "    }\n",
              "</style>\n",
              "<table border=\"1\" class=\"dataframe\">\n",
              "  <thead>\n",
              "    <tr style=\"text-align: right;\">\n",
              "      <th>item</th>\n",
              "      <th>infl</th>\n",
              "      <th>realgdp</th>\n",
              "      <th>unemp</th>\n",
              "    </tr>\n",
              "    <tr>\n",
              "      <th>date</th>\n",
              "      <th></th>\n",
              "      <th></th>\n",
              "      <th></th>\n",
              "    </tr>\n",
              "  </thead>\n",
              "  <tbody>\n",
              "    <tr>\n",
              "      <th>1959-01-01</th>\n",
              "      <td>0.00</td>\n",
              "      <td>2710.349</td>\n",
              "      <td>5.8</td>\n",
              "    </tr>\n",
              "    <tr>\n",
              "      <th>1959-04-01</th>\n",
              "      <td>2.34</td>\n",
              "      <td>2778.801</td>\n",
              "      <td>5.1</td>\n",
              "    </tr>\n",
              "    <tr>\n",
              "      <th>1959-07-01</th>\n",
              "      <td>2.74</td>\n",
              "      <td>2775.488</td>\n",
              "      <td>5.3</td>\n",
              "    </tr>\n",
              "    <tr>\n",
              "      <th>1959-10-01</th>\n",
              "      <td>0.27</td>\n",
              "      <td>2785.204</td>\n",
              "      <td>5.6</td>\n",
              "    </tr>\n",
              "    <tr>\n",
              "      <th>1960-01-01</th>\n",
              "      <td>2.31</td>\n",
              "      <td>2847.699</td>\n",
              "      <td>5.2</td>\n",
              "    </tr>\n",
              "  </tbody>\n",
              "</table>\n",
              "</div>"
            ],
            "text/plain": [
              "item        infl   realgdp  unemp\n",
              "date                             \n",
              "1959-01-01  0.00  2710.349    5.8\n",
              "1959-04-01  2.34  2778.801    5.1\n",
              "1959-07-01  2.74  2775.488    5.3\n",
              "1959-10-01  0.27  2785.204    5.6\n",
              "1960-01-01  2.31  2847.699    5.2"
            ]
          },
          "execution_count": 59,
          "metadata": {},
          "output_type": "execute_result"
        }
      ],
      "source": [
        "pivoted[\"value\"].head()"
      ]
    },
    {
      "cell_type": "markdown",
      "metadata": {
        "id": "aDdqpI3OIEpT"
      },
      "source": [
        "피버팅은 `set_index()` 메서드와 `unstack()` 메서드를 연속적으로 적용하는 것과 동일한 결과를 낸다."
      ]
    },
    {
      "cell_type": "code",
      "execution_count": null,
      "metadata": {
        "id": "dPmhn3Q1IEpT",
        "outputId": "13b72e03-061a-47e0-dcf8-d5cc69f1d117"
      },
      "outputs": [
        {
          "data": {
            "text/html": [
              "<div>\n",
              "<style scoped>\n",
              "    .dataframe tbody tr th:only-of-type {\n",
              "        vertical-align: middle;\n",
              "    }\n",
              "\n",
              "    .dataframe tbody tr th {\n",
              "        vertical-align: top;\n",
              "    }\n",
              "\n",
              "    .dataframe thead th {\n",
              "        text-align: right;\n",
              "    }\n",
              "</style>\n",
              "<table border=\"1\" class=\"dataframe\">\n",
              "  <thead>\n",
              "    <tr style=\"text-align: right;\">\n",
              "      <th></th>\n",
              "      <th>date</th>\n",
              "      <th>item</th>\n",
              "      <th>value</th>\n",
              "      <th>value2</th>\n",
              "    </tr>\n",
              "  </thead>\n",
              "  <tbody>\n",
              "    <tr>\n",
              "      <th>0</th>\n",
              "      <td>1959-01-01</td>\n",
              "      <td>realgdp</td>\n",
              "      <td>2710.349</td>\n",
              "      <td>1.248804</td>\n",
              "    </tr>\n",
              "    <tr>\n",
              "      <th>1</th>\n",
              "      <td>1959-01-01</td>\n",
              "      <td>infl</td>\n",
              "      <td>0.000</td>\n",
              "      <td>0.774191</td>\n",
              "    </tr>\n",
              "    <tr>\n",
              "      <th>2</th>\n",
              "      <td>1959-01-01</td>\n",
              "      <td>unemp</td>\n",
              "      <td>5.800</td>\n",
              "      <td>-0.319657</td>\n",
              "    </tr>\n",
              "    <tr>\n",
              "      <th>3</th>\n",
              "      <td>1959-04-01</td>\n",
              "      <td>realgdp</td>\n",
              "      <td>2778.801</td>\n",
              "      <td>-0.624964</td>\n",
              "    </tr>\n",
              "    <tr>\n",
              "      <th>4</th>\n",
              "      <td>1959-04-01</td>\n",
              "      <td>infl</td>\n",
              "      <td>2.340</td>\n",
              "      <td>1.078814</td>\n",
              "    </tr>\n",
              "    <tr>\n",
              "      <th>5</th>\n",
              "      <td>1959-04-01</td>\n",
              "      <td>unemp</td>\n",
              "      <td>5.100</td>\n",
              "      <td>0.544647</td>\n",
              "    </tr>\n",
              "    <tr>\n",
              "      <th>6</th>\n",
              "      <td>1959-07-01</td>\n",
              "      <td>realgdp</td>\n",
              "      <td>2775.488</td>\n",
              "      <td>0.855588</td>\n",
              "    </tr>\n",
              "    <tr>\n",
              "      <th>7</th>\n",
              "      <td>1959-07-01</td>\n",
              "      <td>infl</td>\n",
              "      <td>2.740</td>\n",
              "      <td>1.343268</td>\n",
              "    </tr>\n",
              "    <tr>\n",
              "      <th>8</th>\n",
              "      <td>1959-07-01</td>\n",
              "      <td>unemp</td>\n",
              "      <td>5.300</td>\n",
              "      <td>-0.267175</td>\n",
              "    </tr>\n",
              "    <tr>\n",
              "      <th>9</th>\n",
              "      <td>1959-10-01</td>\n",
              "      <td>realgdp</td>\n",
              "      <td>2785.204</td>\n",
              "      <td>1.793095</td>\n",
              "    </tr>\n",
              "  </tbody>\n",
              "</table>\n",
              "</div>"
            ],
            "text/plain": [
              "        date     item     value    value2\n",
              "0 1959-01-01  realgdp  2710.349  1.248804\n",
              "1 1959-01-01     infl     0.000  0.774191\n",
              "2 1959-01-01    unemp     5.800 -0.319657\n",
              "3 1959-04-01  realgdp  2778.801 -0.624964\n",
              "4 1959-04-01     infl     2.340  1.078814\n",
              "5 1959-04-01    unemp     5.100  0.544647\n",
              "6 1959-07-01  realgdp  2775.488  0.855588\n",
              "7 1959-07-01     infl     2.740  1.343268\n",
              "8 1959-07-01    unemp     5.300 -0.267175\n",
              "9 1959-10-01  realgdp  2785.204  1.793095"
            ]
          },
          "execution_count": 60,
          "metadata": {},
          "output_type": "execute_result"
        }
      ],
      "source": [
        "long_data.head(10)"
      ]
    },
    {
      "cell_type": "code",
      "execution_count": null,
      "metadata": {
        "id": "IJmNnJwGIEpT",
        "outputId": "d9e3878b-a2e4-4d3d-f21a-f6bf01fa9570"
      },
      "outputs": [
        {
          "data": {
            "text/html": [
              "<div>\n",
              "<style scoped>\n",
              "    .dataframe tbody tr th:only-of-type {\n",
              "        vertical-align: middle;\n",
              "    }\n",
              "\n",
              "    .dataframe tbody tr th {\n",
              "        vertical-align: top;\n",
              "    }\n",
              "\n",
              "    .dataframe thead th {\n",
              "        text-align: right;\n",
              "    }\n",
              "</style>\n",
              "<table border=\"1\" class=\"dataframe\">\n",
              "  <thead>\n",
              "    <tr style=\"text-align: right;\">\n",
              "      <th></th>\n",
              "      <th></th>\n",
              "      <th>value</th>\n",
              "      <th>value2</th>\n",
              "    </tr>\n",
              "    <tr>\n",
              "      <th>date</th>\n",
              "      <th>item</th>\n",
              "      <th></th>\n",
              "      <th></th>\n",
              "    </tr>\n",
              "  </thead>\n",
              "  <tbody>\n",
              "    <tr>\n",
              "      <th rowspan=\"3\" valign=\"top\">1959-01-01</th>\n",
              "      <th>realgdp</th>\n",
              "      <td>2710.349</td>\n",
              "      <td>1.248804</td>\n",
              "    </tr>\n",
              "    <tr>\n",
              "      <th>infl</th>\n",
              "      <td>0.000</td>\n",
              "      <td>0.774191</td>\n",
              "    </tr>\n",
              "    <tr>\n",
              "      <th>unemp</th>\n",
              "      <td>5.800</td>\n",
              "      <td>-0.319657</td>\n",
              "    </tr>\n",
              "    <tr>\n",
              "      <th rowspan=\"2\" valign=\"top\">1959-04-01</th>\n",
              "      <th>realgdp</th>\n",
              "      <td>2778.801</td>\n",
              "      <td>-0.624964</td>\n",
              "    </tr>\n",
              "    <tr>\n",
              "      <th>infl</th>\n",
              "      <td>2.340</td>\n",
              "      <td>1.078814</td>\n",
              "    </tr>\n",
              "    <tr>\n",
              "      <th>...</th>\n",
              "      <th>...</th>\n",
              "      <td>...</td>\n",
              "      <td>...</td>\n",
              "    </tr>\n",
              "    <tr>\n",
              "      <th rowspan=\"2\" valign=\"top\">2009-04-01</th>\n",
              "      <th>infl</th>\n",
              "      <td>3.370</td>\n",
              "      <td>0.904582</td>\n",
              "    </tr>\n",
              "    <tr>\n",
              "      <th>unemp</th>\n",
              "      <td>9.200</td>\n",
              "      <td>1.374036</td>\n",
              "    </tr>\n",
              "    <tr>\n",
              "      <th rowspan=\"3\" valign=\"top\">2009-07-01</th>\n",
              "      <th>realgdp</th>\n",
              "      <td>12990.341</td>\n",
              "      <td>1.132698</td>\n",
              "    </tr>\n",
              "    <tr>\n",
              "      <th>infl</th>\n",
              "      <td>3.560</td>\n",
              "      <td>0.314682</td>\n",
              "    </tr>\n",
              "    <tr>\n",
              "      <th>unemp</th>\n",
              "      <td>9.600</td>\n",
              "      <td>1.515960</td>\n",
              "    </tr>\n",
              "  </tbody>\n",
              "</table>\n",
              "<p>609 rows × 2 columns</p>\n",
              "</div>"
            ],
            "text/plain": [
              "                        value    value2\n",
              "date       item                        \n",
              "1959-01-01 realgdp   2710.349  1.248804\n",
              "           infl         0.000  0.774191\n",
              "           unemp        5.800 -0.319657\n",
              "1959-04-01 realgdp   2778.801 -0.624964\n",
              "           infl         2.340  1.078814\n",
              "...                       ...       ...\n",
              "2009-04-01 infl         3.370  0.904582\n",
              "           unemp        9.200  1.374036\n",
              "2009-07-01 realgdp  12990.341  1.132698\n",
              "           infl         3.560  0.314682\n",
              "           unemp        9.600  1.515960\n",
              "\n",
              "[609 rows x 2 columns]"
            ]
          },
          "execution_count": 61,
          "metadata": {},
          "output_type": "execute_result"
        }
      ],
      "source": [
        "long_data.set_index([\"date\", \"item\"])"
      ]
    },
    {
      "cell_type": "code",
      "execution_count": null,
      "metadata": {
        "id": "BXkKHtNkIEpU",
        "outputId": "c88e7d00-13c4-4dc9-ad22-4d6bf8896205"
      },
      "outputs": [
        {
          "data": {
            "text/html": [
              "<div>\n",
              "<style scoped>\n",
              "    .dataframe tbody tr th:only-of-type {\n",
              "        vertical-align: middle;\n",
              "    }\n",
              "\n",
              "    .dataframe tbody tr th {\n",
              "        vertical-align: top;\n",
              "    }\n",
              "\n",
              "    .dataframe thead tr th {\n",
              "        text-align: left;\n",
              "    }\n",
              "\n",
              "    .dataframe thead tr:last-of-type th {\n",
              "        text-align: right;\n",
              "    }\n",
              "</style>\n",
              "<table border=\"1\" class=\"dataframe\">\n",
              "  <thead>\n",
              "    <tr>\n",
              "      <th></th>\n",
              "      <th colspan=\"3\" halign=\"left\">value</th>\n",
              "      <th colspan=\"3\" halign=\"left\">value2</th>\n",
              "    </tr>\n",
              "    <tr>\n",
              "      <th>item</th>\n",
              "      <th>infl</th>\n",
              "      <th>realgdp</th>\n",
              "      <th>unemp</th>\n",
              "      <th>infl</th>\n",
              "      <th>realgdp</th>\n",
              "      <th>unemp</th>\n",
              "    </tr>\n",
              "    <tr>\n",
              "      <th>date</th>\n",
              "      <th></th>\n",
              "      <th></th>\n",
              "      <th></th>\n",
              "      <th></th>\n",
              "      <th></th>\n",
              "      <th></th>\n",
              "    </tr>\n",
              "  </thead>\n",
              "  <tbody>\n",
              "    <tr>\n",
              "      <th>1959-01-01</th>\n",
              "      <td>0.00</td>\n",
              "      <td>2710.349</td>\n",
              "      <td>5.8</td>\n",
              "      <td>0.774191</td>\n",
              "      <td>1.248804</td>\n",
              "      <td>-0.319657</td>\n",
              "    </tr>\n",
              "    <tr>\n",
              "      <th>1959-04-01</th>\n",
              "      <td>2.34</td>\n",
              "      <td>2778.801</td>\n",
              "      <td>5.1</td>\n",
              "      <td>1.078814</td>\n",
              "      <td>-0.624964</td>\n",
              "      <td>0.544647</td>\n",
              "    </tr>\n",
              "    <tr>\n",
              "      <th>1959-07-01</th>\n",
              "      <td>2.74</td>\n",
              "      <td>2775.488</td>\n",
              "      <td>5.3</td>\n",
              "      <td>1.343268</td>\n",
              "      <td>0.855588</td>\n",
              "      <td>-0.267175</td>\n",
              "    </tr>\n",
              "    <tr>\n",
              "      <th>1959-10-01</th>\n",
              "      <td>0.27</td>\n",
              "      <td>2785.204</td>\n",
              "      <td>5.6</td>\n",
              "      <td>-0.652929</td>\n",
              "      <td>1.793095</td>\n",
              "      <td>-1.886837</td>\n",
              "    </tr>\n",
              "    <tr>\n",
              "      <th>1960-01-01</th>\n",
              "      <td>2.31</td>\n",
              "      <td>2847.699</td>\n",
              "      <td>5.2</td>\n",
              "      <td>0.644448</td>\n",
              "      <td>1.059626</td>\n",
              "      <td>-0.007799</td>\n",
              "    </tr>\n",
              "  </tbody>\n",
              "</table>\n",
              "</div>"
            ],
            "text/plain": [
              "           value                    value2                    \n",
              "item        infl   realgdp unemp      infl   realgdp     unemp\n",
              "date                                                          \n",
              "1959-01-01  0.00  2710.349   5.8  0.774191  1.248804 -0.319657\n",
              "1959-04-01  2.34  2778.801   5.1  1.078814 -0.624964  0.544647\n",
              "1959-07-01  2.74  2775.488   5.3  1.343268  0.855588 -0.267175\n",
              "1959-10-01  0.27  2785.204   5.6 -0.652929  1.793095 -1.886837\n",
              "1960-01-01  2.31  2847.699   5.2  0.644448  1.059626 -0.007799"
            ]
          },
          "execution_count": 62,
          "metadata": {},
          "output_type": "execute_result"
        }
      ],
      "source": [
        "unstacked = long_data.set_index([\"date\", \"item\"]).unstack(level=\"item\")\n",
        "unstacked.head()"
      ]
    },
    {
      "cell_type": "markdown",
      "metadata": {
        "id": "GAJs3wvUIEpU"
      },
      "source": [
        "### 언피버팅"
      ]
    },
    {
      "cell_type": "markdown",
      "metadata": {
        "id": "PyGiPer0IEpU"
      },
      "source": [
        "넓은 모양 데이터프레임을 긴 모양 데이터프레임으로 변환하는 과정을 살펴 본다."
      ]
    },
    {
      "cell_type": "code",
      "execution_count": null,
      "metadata": {
        "id": "sagqJyPaIEpU",
        "outputId": "90d64fca-231e-4c7b-8bcd-850e3dfc32d7"
      },
      "outputs": [
        {
          "data": {
            "text/html": [
              "<div>\n",
              "<style scoped>\n",
              "    .dataframe tbody tr th:only-of-type {\n",
              "        vertical-align: middle;\n",
              "    }\n",
              "\n",
              "    .dataframe tbody tr th {\n",
              "        vertical-align: top;\n",
              "    }\n",
              "\n",
              "    .dataframe thead th {\n",
              "        text-align: right;\n",
              "    }\n",
              "</style>\n",
              "<table border=\"1\" class=\"dataframe\">\n",
              "  <thead>\n",
              "    <tr style=\"text-align: right;\">\n",
              "      <th></th>\n",
              "      <th>key</th>\n",
              "      <th>A</th>\n",
              "      <th>B</th>\n",
              "      <th>C</th>\n",
              "    </tr>\n",
              "  </thead>\n",
              "  <tbody>\n",
              "    <tr>\n",
              "      <th>0</th>\n",
              "      <td>foo</td>\n",
              "      <td>1</td>\n",
              "      <td>4</td>\n",
              "      <td>7</td>\n",
              "    </tr>\n",
              "    <tr>\n",
              "      <th>1</th>\n",
              "      <td>bar</td>\n",
              "      <td>2</td>\n",
              "      <td>5</td>\n",
              "      <td>8</td>\n",
              "    </tr>\n",
              "    <tr>\n",
              "      <th>2</th>\n",
              "      <td>baz</td>\n",
              "      <td>3</td>\n",
              "      <td>6</td>\n",
              "      <td>9</td>\n",
              "    </tr>\n",
              "  </tbody>\n",
              "</table>\n",
              "</div>"
            ],
            "text/plain": [
              "   key  A  B  C\n",
              "0  foo  1  4  7\n",
              "1  bar  2  5  8\n",
              "2  baz  3  6  9"
            ]
          },
          "execution_count": 63,
          "metadata": {},
          "output_type": "execute_result"
        }
      ],
      "source": [
        "df = pd.DataFrame({\"key\": [\"foo\", \"bar\", \"baz\"],\n",
        "                   \"A\": [1, 2, 3],\n",
        "                   \"B\": [4, 5, 6],\n",
        "                   \"C\": [7, 8, 9]})\n",
        "df"
      ]
    },
    {
      "cell_type": "markdown",
      "metadata": {
        "id": "Jk2C-NgUIEpU"
      },
      "source": [
        "- `set_index()` 메서드와 `stack()` 메서드를 연속적용하면 여러 개의 열이\n",
        "하나의 열로 구성된 긴 모양 데이터프레임 생성 가능"
      ]
    },
    {
      "cell_type": "code",
      "execution_count": null,
      "metadata": {
        "id": "IS40mUG7IEpU",
        "outputId": "a4bf90fc-fa2f-43db-c25a-7d2e7c1d6c25"
      },
      "outputs": [
        {
          "data": {
            "text/html": [
              "<div>\n",
              "<style scoped>\n",
              "    .dataframe tbody tr th:only-of-type {\n",
              "        vertical-align: middle;\n",
              "    }\n",
              "\n",
              "    .dataframe tbody tr th {\n",
              "        vertical-align: top;\n",
              "    }\n",
              "\n",
              "    .dataframe thead th {\n",
              "        text-align: right;\n",
              "    }\n",
              "</style>\n",
              "<table border=\"1\" class=\"dataframe\">\n",
              "  <thead>\n",
              "    <tr style=\"text-align: right;\">\n",
              "      <th></th>\n",
              "      <th>A</th>\n",
              "      <th>B</th>\n",
              "      <th>C</th>\n",
              "    </tr>\n",
              "    <tr>\n",
              "      <th>key</th>\n",
              "      <th></th>\n",
              "      <th></th>\n",
              "      <th></th>\n",
              "    </tr>\n",
              "  </thead>\n",
              "  <tbody>\n",
              "    <tr>\n",
              "      <th>foo</th>\n",
              "      <td>1</td>\n",
              "      <td>4</td>\n",
              "      <td>7</td>\n",
              "    </tr>\n",
              "    <tr>\n",
              "      <th>bar</th>\n",
              "      <td>2</td>\n",
              "      <td>5</td>\n",
              "      <td>8</td>\n",
              "    </tr>\n",
              "    <tr>\n",
              "      <th>baz</th>\n",
              "      <td>3</td>\n",
              "      <td>6</td>\n",
              "      <td>9</td>\n",
              "    </tr>\n",
              "  </tbody>\n",
              "</table>\n",
              "</div>"
            ],
            "text/plain": [
              "     A  B  C\n",
              "key         \n",
              "foo  1  4  7\n",
              "bar  2  5  8\n",
              "baz  3  6  9"
            ]
          },
          "execution_count": 64,
          "metadata": {},
          "output_type": "execute_result"
        }
      ],
      "source": [
        "df.set_index([\"key\"])"
      ]
    },
    {
      "cell_type": "code",
      "execution_count": null,
      "metadata": {
        "id": "YRMXhzz8IEpU",
        "outputId": "f5540b06-7af0-4d0c-ed25-79c824b613ec"
      },
      "outputs": [
        {
          "data": {
            "text/plain": [
              "key   \n",
              "foo  A    1\n",
              "     B    4\n",
              "     C    7\n",
              "bar  A    2\n",
              "     B    5\n",
              "     C    8\n",
              "baz  A    3\n",
              "     B    6\n",
              "     C    9\n",
              "dtype: int64"
            ]
          },
          "execution_count": 65,
          "metadata": {},
          "output_type": "execute_result"
        }
      ],
      "source": [
        "df.set_index([\"key\"]).stack()"
      ]
    },
    {
      "cell_type": "code",
      "execution_count": null,
      "metadata": {
        "id": "f7nwSBddIEpU",
        "outputId": "bd1f7f0a-e616-4070-fc7b-974fcca17cc7"
      },
      "outputs": [
        {
          "data": {
            "text/html": [
              "<div>\n",
              "<style scoped>\n",
              "    .dataframe tbody tr th:only-of-type {\n",
              "        vertical-align: middle;\n",
              "    }\n",
              "\n",
              "    .dataframe tbody tr th {\n",
              "        vertical-align: top;\n",
              "    }\n",
              "\n",
              "    .dataframe thead th {\n",
              "        text-align: right;\n",
              "    }\n",
              "</style>\n",
              "<table border=\"1\" class=\"dataframe\">\n",
              "  <thead>\n",
              "    <tr style=\"text-align: right;\">\n",
              "      <th></th>\n",
              "      <th>key</th>\n",
              "      <th>level_1</th>\n",
              "      <th>0</th>\n",
              "    </tr>\n",
              "  </thead>\n",
              "  <tbody>\n",
              "    <tr>\n",
              "      <th>0</th>\n",
              "      <td>foo</td>\n",
              "      <td>A</td>\n",
              "      <td>1</td>\n",
              "    </tr>\n",
              "    <tr>\n",
              "      <th>1</th>\n",
              "      <td>foo</td>\n",
              "      <td>B</td>\n",
              "      <td>4</td>\n",
              "    </tr>\n",
              "    <tr>\n",
              "      <th>2</th>\n",
              "      <td>foo</td>\n",
              "      <td>C</td>\n",
              "      <td>7</td>\n",
              "    </tr>\n",
              "    <tr>\n",
              "      <th>3</th>\n",
              "      <td>bar</td>\n",
              "      <td>A</td>\n",
              "      <td>2</td>\n",
              "    </tr>\n",
              "    <tr>\n",
              "      <th>4</th>\n",
              "      <td>bar</td>\n",
              "      <td>B</td>\n",
              "      <td>5</td>\n",
              "    </tr>\n",
              "    <tr>\n",
              "      <th>5</th>\n",
              "      <td>bar</td>\n",
              "      <td>C</td>\n",
              "      <td>8</td>\n",
              "    </tr>\n",
              "    <tr>\n",
              "      <th>6</th>\n",
              "      <td>baz</td>\n",
              "      <td>A</td>\n",
              "      <td>3</td>\n",
              "    </tr>\n",
              "    <tr>\n",
              "      <th>7</th>\n",
              "      <td>baz</td>\n",
              "      <td>B</td>\n",
              "      <td>6</td>\n",
              "    </tr>\n",
              "    <tr>\n",
              "      <th>8</th>\n",
              "      <td>baz</td>\n",
              "      <td>C</td>\n",
              "      <td>9</td>\n",
              "    </tr>\n",
              "  </tbody>\n",
              "</table>\n",
              "</div>"
            ],
            "text/plain": [
              "   key level_1  0\n",
              "0  foo       A  1\n",
              "1  foo       B  4\n",
              "2  foo       C  7\n",
              "3  bar       A  2\n",
              "4  bar       B  5\n",
              "5  bar       C  8\n",
              "6  baz       A  3\n",
              "7  baz       B  6\n",
              "8  baz       C  9"
            ]
          },
          "execution_count": 66,
          "metadata": {},
          "output_type": "execute_result"
        }
      ],
      "source": [
        "reshaped = df.set_index([\"key\"]).stack().reset_index()\n",
        "reshaped"
      ]
    },
    {
      "cell_type": "code",
      "execution_count": null,
      "metadata": {
        "id": "A3bPr7oJIEpU",
        "outputId": "6e2508a6-43e5-403b-e0d8-a489599ae2ff"
      },
      "outputs": [
        {
          "data": {
            "text/html": [
              "<div>\n",
              "<style scoped>\n",
              "    .dataframe tbody tr th:only-of-type {\n",
              "        vertical-align: middle;\n",
              "    }\n",
              "\n",
              "    .dataframe tbody tr th {\n",
              "        vertical-align: top;\n",
              "    }\n",
              "\n",
              "    .dataframe thead th {\n",
              "        text-align: right;\n",
              "    }\n",
              "</style>\n",
              "<table border=\"1\" class=\"dataframe\">\n",
              "  <thead>\n",
              "    <tr style=\"text-align: right;\">\n",
              "      <th></th>\n",
              "      <th>key</th>\n",
              "      <th>variable</th>\n",
              "      <th>value</th>\n",
              "    </tr>\n",
              "  </thead>\n",
              "  <tbody>\n",
              "    <tr>\n",
              "      <th>3</th>\n",
              "      <td>bar</td>\n",
              "      <td>A</td>\n",
              "      <td>2</td>\n",
              "    </tr>\n",
              "    <tr>\n",
              "      <th>4</th>\n",
              "      <td>bar</td>\n",
              "      <td>B</td>\n",
              "      <td>5</td>\n",
              "    </tr>\n",
              "    <tr>\n",
              "      <th>5</th>\n",
              "      <td>bar</td>\n",
              "      <td>C</td>\n",
              "      <td>8</td>\n",
              "    </tr>\n",
              "    <tr>\n",
              "      <th>6</th>\n",
              "      <td>baz</td>\n",
              "      <td>A</td>\n",
              "      <td>3</td>\n",
              "    </tr>\n",
              "    <tr>\n",
              "      <th>7</th>\n",
              "      <td>baz</td>\n",
              "      <td>B</td>\n",
              "      <td>6</td>\n",
              "    </tr>\n",
              "    <tr>\n",
              "      <th>8</th>\n",
              "      <td>baz</td>\n",
              "      <td>C</td>\n",
              "      <td>9</td>\n",
              "    </tr>\n",
              "    <tr>\n",
              "      <th>0</th>\n",
              "      <td>foo</td>\n",
              "      <td>A</td>\n",
              "      <td>1</td>\n",
              "    </tr>\n",
              "    <tr>\n",
              "      <th>1</th>\n",
              "      <td>foo</td>\n",
              "      <td>B</td>\n",
              "      <td>4</td>\n",
              "    </tr>\n",
              "    <tr>\n",
              "      <th>2</th>\n",
              "      <td>foo</td>\n",
              "      <td>C</td>\n",
              "      <td>7</td>\n",
              "    </tr>\n",
              "  </tbody>\n",
              "</table>\n",
              "</div>"
            ],
            "text/plain": [
              "   key variable  value\n",
              "3  bar        A      2\n",
              "4  bar        B      5\n",
              "5  bar        C      8\n",
              "6  baz        A      3\n",
              "7  baz        B      6\n",
              "8  baz        C      9\n",
              "0  foo        A      1\n",
              "1  foo        B      4\n",
              "2  foo        C      7"
            ]
          },
          "execution_count": 67,
          "metadata": {},
          "output_type": "execute_result"
        }
      ],
      "source": [
        "reshaped.columns = [\"key\", \"variable\", \"value\"]\n",
        "reshaped.sort_values(\"key\")"
      ]
    },
    {
      "cell_type": "markdown",
      "metadata": {
        "id": "anpSeuBxIEpV"
      },
      "source": [
        "- `pd.melt()` 함수: 위 과정을 한 번에 처리한다.\n",
        "    - `id_vars` 키워드 인자: 그룹 식별자 사용될 값들의 열 지정."
      ]
    },
    {
      "cell_type": "code",
      "execution_count": null,
      "metadata": {
        "id": "8S-FcIWVIEpV",
        "outputId": "c587f49b-34f9-4831-95c0-ca428712ef6f"
      },
      "outputs": [
        {
          "data": {
            "text/html": [
              "<div>\n",
              "<style scoped>\n",
              "    .dataframe tbody tr th:only-of-type {\n",
              "        vertical-align: middle;\n",
              "    }\n",
              "\n",
              "    .dataframe tbody tr th {\n",
              "        vertical-align: top;\n",
              "    }\n",
              "\n",
              "    .dataframe thead th {\n",
              "        text-align: right;\n",
              "    }\n",
              "</style>\n",
              "<table border=\"1\" class=\"dataframe\">\n",
              "  <thead>\n",
              "    <tr style=\"text-align: right;\">\n",
              "      <th></th>\n",
              "      <th>key</th>\n",
              "      <th>variable</th>\n",
              "      <th>value</th>\n",
              "    </tr>\n",
              "  </thead>\n",
              "  <tbody>\n",
              "    <tr>\n",
              "      <th>0</th>\n",
              "      <td>foo</td>\n",
              "      <td>A</td>\n",
              "      <td>1</td>\n",
              "    </tr>\n",
              "    <tr>\n",
              "      <th>1</th>\n",
              "      <td>bar</td>\n",
              "      <td>A</td>\n",
              "      <td>2</td>\n",
              "    </tr>\n",
              "    <tr>\n",
              "      <th>2</th>\n",
              "      <td>baz</td>\n",
              "      <td>A</td>\n",
              "      <td>3</td>\n",
              "    </tr>\n",
              "    <tr>\n",
              "      <th>3</th>\n",
              "      <td>foo</td>\n",
              "      <td>B</td>\n",
              "      <td>4</td>\n",
              "    </tr>\n",
              "    <tr>\n",
              "      <th>4</th>\n",
              "      <td>bar</td>\n",
              "      <td>B</td>\n",
              "      <td>5</td>\n",
              "    </tr>\n",
              "    <tr>\n",
              "      <th>5</th>\n",
              "      <td>baz</td>\n",
              "      <td>B</td>\n",
              "      <td>6</td>\n",
              "    </tr>\n",
              "    <tr>\n",
              "      <th>6</th>\n",
              "      <td>foo</td>\n",
              "      <td>C</td>\n",
              "      <td>7</td>\n",
              "    </tr>\n",
              "    <tr>\n",
              "      <th>7</th>\n",
              "      <td>bar</td>\n",
              "      <td>C</td>\n",
              "      <td>8</td>\n",
              "    </tr>\n",
              "    <tr>\n",
              "      <th>8</th>\n",
              "      <td>baz</td>\n",
              "      <td>C</td>\n",
              "      <td>9</td>\n",
              "    </tr>\n",
              "  </tbody>\n",
              "</table>\n",
              "</div>"
            ],
            "text/plain": [
              "   key variable  value\n",
              "0  foo        A      1\n",
              "1  bar        A      2\n",
              "2  baz        A      3\n",
              "3  foo        B      4\n",
              "4  bar        B      5\n",
              "5  baz        B      6\n",
              "6  foo        C      7\n",
              "7  bar        C      8\n",
              "8  baz        C      9"
            ]
          },
          "execution_count": 68,
          "metadata": {},
          "output_type": "execute_result"
        }
      ],
      "source": [
        "melted = pd.melt(df, id_vars=\"key\")\n",
        "melted"
      ]
    },
    {
      "cell_type": "code",
      "execution_count": null,
      "metadata": {
        "id": "lBuyUPEgIEpV",
        "outputId": "4a5a9143-633b-4dbf-e9d6-1c4329cb8bbf"
      },
      "outputs": [
        {
          "data": {
            "text/html": [
              "<div>\n",
              "<style scoped>\n",
              "    .dataframe tbody tr th:only-of-type {\n",
              "        vertical-align: middle;\n",
              "    }\n",
              "\n",
              "    .dataframe tbody tr th {\n",
              "        vertical-align: top;\n",
              "    }\n",
              "\n",
              "    .dataframe thead th {\n",
              "        text-align: right;\n",
              "    }\n",
              "</style>\n",
              "<table border=\"1\" class=\"dataframe\">\n",
              "  <thead>\n",
              "    <tr style=\"text-align: right;\">\n",
              "      <th></th>\n",
              "      <th>key</th>\n",
              "      <th>variable</th>\n",
              "      <th>value</th>\n",
              "    </tr>\n",
              "  </thead>\n",
              "  <tbody>\n",
              "    <tr>\n",
              "      <th>1</th>\n",
              "      <td>bar</td>\n",
              "      <td>A</td>\n",
              "      <td>2</td>\n",
              "    </tr>\n",
              "    <tr>\n",
              "      <th>4</th>\n",
              "      <td>bar</td>\n",
              "      <td>B</td>\n",
              "      <td>5</td>\n",
              "    </tr>\n",
              "    <tr>\n",
              "      <th>7</th>\n",
              "      <td>bar</td>\n",
              "      <td>C</td>\n",
              "      <td>8</td>\n",
              "    </tr>\n",
              "    <tr>\n",
              "      <th>2</th>\n",
              "      <td>baz</td>\n",
              "      <td>A</td>\n",
              "      <td>3</td>\n",
              "    </tr>\n",
              "    <tr>\n",
              "      <th>5</th>\n",
              "      <td>baz</td>\n",
              "      <td>B</td>\n",
              "      <td>6</td>\n",
              "    </tr>\n",
              "    <tr>\n",
              "      <th>8</th>\n",
              "      <td>baz</td>\n",
              "      <td>C</td>\n",
              "      <td>9</td>\n",
              "    </tr>\n",
              "    <tr>\n",
              "      <th>0</th>\n",
              "      <td>foo</td>\n",
              "      <td>A</td>\n",
              "      <td>1</td>\n",
              "    </tr>\n",
              "    <tr>\n",
              "      <th>3</th>\n",
              "      <td>foo</td>\n",
              "      <td>B</td>\n",
              "      <td>4</td>\n",
              "    </tr>\n",
              "    <tr>\n",
              "      <th>6</th>\n",
              "      <td>foo</td>\n",
              "      <td>C</td>\n",
              "      <td>7</td>\n",
              "    </tr>\n",
              "  </tbody>\n",
              "</table>\n",
              "</div>"
            ],
            "text/plain": [
              "   key variable  value\n",
              "1  bar        A      2\n",
              "4  bar        B      5\n",
              "7  bar        C      8\n",
              "2  baz        A      3\n",
              "5  baz        B      6\n",
              "8  baz        C      9\n",
              "0  foo        A      1\n",
              "3  foo        B      4\n",
              "6  foo        C      7"
            ]
          },
          "execution_count": 69,
          "metadata": {},
          "output_type": "execute_result"
        }
      ],
      "source": [
        "melted = melted.sort_values(\"key\")\n",
        "\n",
        "melted"
      ]
    },
    {
      "cell_type": "markdown",
      "metadata": {
        "id": "hBpU7uNWIEpV"
      },
      "source": [
        "- `pivot()` 메서드를 적용하면 다시 넓은 모양 데이터프레임으로 변환"
      ]
    },
    {
      "cell_type": "code",
      "execution_count": null,
      "metadata": {
        "id": "R2j42tz_IEpV",
        "outputId": "1257378e-6623-4183-e5b0-6564766face6"
      },
      "outputs": [
        {
          "data": {
            "text/html": [
              "<div>\n",
              "<style scoped>\n",
              "    .dataframe tbody tr th:only-of-type {\n",
              "        vertical-align: middle;\n",
              "    }\n",
              "\n",
              "    .dataframe tbody tr th {\n",
              "        vertical-align: top;\n",
              "    }\n",
              "\n",
              "    .dataframe thead th {\n",
              "        text-align: right;\n",
              "    }\n",
              "</style>\n",
              "<table border=\"1\" class=\"dataframe\">\n",
              "  <thead>\n",
              "    <tr style=\"text-align: right;\">\n",
              "      <th>variable</th>\n",
              "      <th>A</th>\n",
              "      <th>B</th>\n",
              "      <th>C</th>\n",
              "    </tr>\n",
              "    <tr>\n",
              "      <th>key</th>\n",
              "      <th></th>\n",
              "      <th></th>\n",
              "      <th></th>\n",
              "    </tr>\n",
              "  </thead>\n",
              "  <tbody>\n",
              "    <tr>\n",
              "      <th>bar</th>\n",
              "      <td>2</td>\n",
              "      <td>5</td>\n",
              "      <td>8</td>\n",
              "    </tr>\n",
              "    <tr>\n",
              "      <th>baz</th>\n",
              "      <td>3</td>\n",
              "      <td>6</td>\n",
              "      <td>9</td>\n",
              "    </tr>\n",
              "    <tr>\n",
              "      <th>foo</th>\n",
              "      <td>1</td>\n",
              "      <td>4</td>\n",
              "      <td>7</td>\n",
              "    </tr>\n",
              "  </tbody>\n",
              "</table>\n",
              "</div>"
            ],
            "text/plain": [
              "variable  A  B  C\n",
              "key              \n",
              "bar       2  5  8\n",
              "baz       3  6  9\n",
              "foo       1  4  7"
            ]
          },
          "execution_count": 70,
          "metadata": {},
          "output_type": "execute_result"
        }
      ],
      "source": [
        "reshaped = melted.pivot(index=\"key\", columns=\"variable\",\n",
        "                        values=\"value\")\n",
        "reshaped"
      ]
    },
    {
      "cell_type": "code",
      "execution_count": null,
      "metadata": {
        "id": "bLht8RL-IEpV",
        "outputId": "efd8e9c1-810f-4627-9dcd-52e2c6271e97"
      },
      "outputs": [
        {
          "data": {
            "text/html": [
              "<div>\n",
              "<style scoped>\n",
              "    .dataframe tbody tr th:only-of-type {\n",
              "        vertical-align: middle;\n",
              "    }\n",
              "\n",
              "    .dataframe tbody tr th {\n",
              "        vertical-align: top;\n",
              "    }\n",
              "\n",
              "    .dataframe thead th {\n",
              "        text-align: right;\n",
              "    }\n",
              "</style>\n",
              "<table border=\"1\" class=\"dataframe\">\n",
              "  <thead>\n",
              "    <tr style=\"text-align: right;\">\n",
              "      <th>variable</th>\n",
              "      <th>key</th>\n",
              "      <th>A</th>\n",
              "      <th>B</th>\n",
              "      <th>C</th>\n",
              "    </tr>\n",
              "  </thead>\n",
              "  <tbody>\n",
              "    <tr>\n",
              "      <th>0</th>\n",
              "      <td>bar</td>\n",
              "      <td>2</td>\n",
              "      <td>5</td>\n",
              "      <td>8</td>\n",
              "    </tr>\n",
              "    <tr>\n",
              "      <th>1</th>\n",
              "      <td>baz</td>\n",
              "      <td>3</td>\n",
              "      <td>6</td>\n",
              "      <td>9</td>\n",
              "    </tr>\n",
              "    <tr>\n",
              "      <th>2</th>\n",
              "      <td>foo</td>\n",
              "      <td>1</td>\n",
              "      <td>4</td>\n",
              "      <td>7</td>\n",
              "    </tr>\n",
              "  </tbody>\n",
              "</table>\n",
              "</div>"
            ],
            "text/plain": [
              "variable  key  A  B  C\n",
              "0         bar  2  5  8\n",
              "1         baz  3  6  9\n",
              "2         foo  1  4  7"
            ]
          },
          "execution_count": 71,
          "metadata": {},
          "output_type": "execute_result"
        }
      ],
      "source": [
        "reshaped.reset_index()"
      ]
    },
    {
      "cell_type": "markdown",
      "metadata": {
        "id": "PJQ7ftC1IEpV"
      },
      "source": [
        "- `value_vars=[\"A\", \"B\"]` 키워드 인자: `value` 열에 사용되는 값과 연관된 열 지정. 여기서는 `A`, `B`열의 값만 사용."
      ]
    },
    {
      "cell_type": "code",
      "execution_count": null,
      "metadata": {
        "id": "WK4QPgPEIEpV",
        "outputId": "0d85d2aa-a349-4edb-ab1c-203baf60b4bb"
      },
      "outputs": [
        {
          "data": {
            "text/html": [
              "<div>\n",
              "<style scoped>\n",
              "    .dataframe tbody tr th:only-of-type {\n",
              "        vertical-align: middle;\n",
              "    }\n",
              "\n",
              "    .dataframe tbody tr th {\n",
              "        vertical-align: top;\n",
              "    }\n",
              "\n",
              "    .dataframe thead th {\n",
              "        text-align: right;\n",
              "    }\n",
              "</style>\n",
              "<table border=\"1\" class=\"dataframe\">\n",
              "  <thead>\n",
              "    <tr style=\"text-align: right;\">\n",
              "      <th></th>\n",
              "      <th>key</th>\n",
              "      <th>variable</th>\n",
              "      <th>value</th>\n",
              "    </tr>\n",
              "  </thead>\n",
              "  <tbody>\n",
              "    <tr>\n",
              "      <th>0</th>\n",
              "      <td>foo</td>\n",
              "      <td>A</td>\n",
              "      <td>1</td>\n",
              "    </tr>\n",
              "    <tr>\n",
              "      <th>1</th>\n",
              "      <td>bar</td>\n",
              "      <td>A</td>\n",
              "      <td>2</td>\n",
              "    </tr>\n",
              "    <tr>\n",
              "      <th>2</th>\n",
              "      <td>baz</td>\n",
              "      <td>A</td>\n",
              "      <td>3</td>\n",
              "    </tr>\n",
              "    <tr>\n",
              "      <th>3</th>\n",
              "      <td>foo</td>\n",
              "      <td>B</td>\n",
              "      <td>4</td>\n",
              "    </tr>\n",
              "    <tr>\n",
              "      <th>4</th>\n",
              "      <td>bar</td>\n",
              "      <td>B</td>\n",
              "      <td>5</td>\n",
              "    </tr>\n",
              "    <tr>\n",
              "      <th>5</th>\n",
              "      <td>baz</td>\n",
              "      <td>B</td>\n",
              "      <td>6</td>\n",
              "    </tr>\n",
              "  </tbody>\n",
              "</table>\n",
              "</div>"
            ],
            "text/plain": [
              "   key variable  value\n",
              "0  foo        A      1\n",
              "1  bar        A      2\n",
              "2  baz        A      3\n",
              "3  foo        B      4\n",
              "4  bar        B      5\n",
              "5  baz        B      6"
            ]
          },
          "execution_count": 72,
          "metadata": {},
          "output_type": "execute_result"
        }
      ],
      "source": [
        "pd.melt(df, id_vars=\"key\", value_vars=[\"A\", \"B\"])"
      ]
    },
    {
      "cell_type": "markdown",
      "metadata": {
        "id": "q4N2_XdlIEpV"
      },
      "source": [
        "- `id_vars` 키워드 인자 생략: 그룹 식별자 사용하지 않음"
      ]
    },
    {
      "cell_type": "code",
      "execution_count": null,
      "metadata": {
        "id": "80poS9NgIEpW",
        "outputId": "7d96c2ee-839d-4696-f080-2de549ad8fa9"
      },
      "outputs": [
        {
          "data": {
            "text/html": [
              "<div>\n",
              "<style scoped>\n",
              "    .dataframe tbody tr th:only-of-type {\n",
              "        vertical-align: middle;\n",
              "    }\n",
              "\n",
              "    .dataframe tbody tr th {\n",
              "        vertical-align: top;\n",
              "    }\n",
              "\n",
              "    .dataframe thead th {\n",
              "        text-align: right;\n",
              "    }\n",
              "</style>\n",
              "<table border=\"1\" class=\"dataframe\">\n",
              "  <thead>\n",
              "    <tr style=\"text-align: right;\">\n",
              "      <th></th>\n",
              "      <th>variable</th>\n",
              "      <th>value</th>\n",
              "    </tr>\n",
              "  </thead>\n",
              "  <tbody>\n",
              "    <tr>\n",
              "      <th>0</th>\n",
              "      <td>A</td>\n",
              "      <td>1</td>\n",
              "    </tr>\n",
              "    <tr>\n",
              "      <th>1</th>\n",
              "      <td>A</td>\n",
              "      <td>2</td>\n",
              "    </tr>\n",
              "    <tr>\n",
              "      <th>2</th>\n",
              "      <td>A</td>\n",
              "      <td>3</td>\n",
              "    </tr>\n",
              "    <tr>\n",
              "      <th>3</th>\n",
              "      <td>B</td>\n",
              "      <td>4</td>\n",
              "    </tr>\n",
              "    <tr>\n",
              "      <th>4</th>\n",
              "      <td>B</td>\n",
              "      <td>5</td>\n",
              "    </tr>\n",
              "    <tr>\n",
              "      <th>5</th>\n",
              "      <td>B</td>\n",
              "      <td>6</td>\n",
              "    </tr>\n",
              "    <tr>\n",
              "      <th>6</th>\n",
              "      <td>C</td>\n",
              "      <td>7</td>\n",
              "    </tr>\n",
              "    <tr>\n",
              "      <th>7</th>\n",
              "      <td>C</td>\n",
              "      <td>8</td>\n",
              "    </tr>\n",
              "    <tr>\n",
              "      <th>8</th>\n",
              "      <td>C</td>\n",
              "      <td>9</td>\n",
              "    </tr>\n",
              "  </tbody>\n",
              "</table>\n",
              "</div>"
            ],
            "text/plain": [
              "  variable  value\n",
              "0        A      1\n",
              "1        A      2\n",
              "2        A      3\n",
              "3        B      4\n",
              "4        B      5\n",
              "5        B      6\n",
              "6        C      7\n",
              "7        C      8\n",
              "8        C      9"
            ]
          },
          "execution_count": 73,
          "metadata": {},
          "output_type": "execute_result"
        }
      ],
      "source": [
        "pd.melt(df, value_vars=[\"A\", \"B\", \"C\"])"
      ]
    },
    {
      "cell_type": "code",
      "execution_count": null,
      "metadata": {
        "id": "E3WKVtkHIEpW",
        "outputId": "9043a1cd-c8da-4b8b-cee5-6a9ee0359bdf"
      },
      "outputs": [
        {
          "data": {
            "text/html": [
              "<div>\n",
              "<style scoped>\n",
              "    .dataframe tbody tr th:only-of-type {\n",
              "        vertical-align: middle;\n",
              "    }\n",
              "\n",
              "    .dataframe tbody tr th {\n",
              "        vertical-align: top;\n",
              "    }\n",
              "\n",
              "    .dataframe thead th {\n",
              "        text-align: right;\n",
              "    }\n",
              "</style>\n",
              "<table border=\"1\" class=\"dataframe\">\n",
              "  <thead>\n",
              "    <tr style=\"text-align: right;\">\n",
              "      <th></th>\n",
              "      <th>variable</th>\n",
              "      <th>value</th>\n",
              "    </tr>\n",
              "  </thead>\n",
              "  <tbody>\n",
              "    <tr>\n",
              "      <th>0</th>\n",
              "      <td>key</td>\n",
              "      <td>foo</td>\n",
              "    </tr>\n",
              "    <tr>\n",
              "      <th>1</th>\n",
              "      <td>key</td>\n",
              "      <td>bar</td>\n",
              "    </tr>\n",
              "    <tr>\n",
              "      <th>2</th>\n",
              "      <td>key</td>\n",
              "      <td>baz</td>\n",
              "    </tr>\n",
              "    <tr>\n",
              "      <th>3</th>\n",
              "      <td>A</td>\n",
              "      <td>1</td>\n",
              "    </tr>\n",
              "    <tr>\n",
              "      <th>4</th>\n",
              "      <td>A</td>\n",
              "      <td>2</td>\n",
              "    </tr>\n",
              "    <tr>\n",
              "      <th>5</th>\n",
              "      <td>A</td>\n",
              "      <td>3</td>\n",
              "    </tr>\n",
              "    <tr>\n",
              "      <th>6</th>\n",
              "      <td>B</td>\n",
              "      <td>4</td>\n",
              "    </tr>\n",
              "    <tr>\n",
              "      <th>7</th>\n",
              "      <td>B</td>\n",
              "      <td>5</td>\n",
              "    </tr>\n",
              "    <tr>\n",
              "      <th>8</th>\n",
              "      <td>B</td>\n",
              "      <td>6</td>\n",
              "    </tr>\n",
              "  </tbody>\n",
              "</table>\n",
              "</div>"
            ],
            "text/plain": [
              "  variable value\n",
              "0      key   foo\n",
              "1      key   bar\n",
              "2      key   baz\n",
              "3        A     1\n",
              "4        A     2\n",
              "5        A     3\n",
              "6        B     4\n",
              "7        B     5\n",
              "8        B     6"
            ]
          },
          "execution_count": 74,
          "metadata": {},
          "output_type": "execute_result"
        }
      ],
      "source": [
        "pd.melt(df, value_vars=[\"key\", \"A\", \"B\"])"
      ]
    }
  ],
  "metadata": {
    "kernelspec": {
      "display_name": "Python 3 (ipykernel)",
      "language": "python",
      "name": "python3"
    },
    "language_info": {
      "codemirror_mode": {
        "name": "ipython",
        "version": 3
      },
      "file_extension": ".py",
      "mimetype": "text/x-python",
      "name": "python",
      "nbconvert_exporter": "python",
      "pygments_lexer": "ipython3",
      "version": "3.11.5"
    },
    "colab": {
      "provenance": [],
      "include_colab_link": true
    }
  },
  "nbformat": 4,
  "nbformat_minor": 0
}